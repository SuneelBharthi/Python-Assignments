{
 "cells": [
  {
   "cell_type": "markdown",
   "id": "f5726d96",
   "metadata": {},
   "source": [
    "#                   Function Assignment:\n",
    "\n",
    "### 1. Write a Python function to find the maximum of three numbers. \n"
   ]
  },
  {
   "cell_type": "code",
   "execution_count": 1,
   "id": "8fa089e8",
   "metadata": {},
   "outputs": [],
   "source": [
    "def max_num1(a,b,c):\n",
    "    return f\"Maximum number is: {max(a,b,c)}\""
   ]
  },
  {
   "cell_type": "code",
   "execution_count": 2,
   "id": "705f06ef",
   "metadata": {},
   "outputs": [
    {
     "data": {
      "text/plain": [
       "'Maximum number is: 7'"
      ]
     },
     "execution_count": 2,
     "metadata": {},
     "output_type": "execute_result"
    }
   ],
   "source": [
    "max_num1(5,7,2)"
   ]
  },
  {
   "cell_type": "code",
   "execution_count": 3,
   "id": "cfe579bd",
   "metadata": {},
   "outputs": [],
   "source": [
    "def max_num(num1, num2, num3):\n",
    "    if num1 > num2 and num1 > num3:\n",
    "        return f\" The Maximum number is: {num1}\"\n",
    "    elif num2 > num1 and num2 > num3:\n",
    "        return f\" The Maximum number is: {num2}\"\n",
    "    else:\n",
    "        return f\" The Maximum number is: {num3}\""
   ]
  },
  {
   "cell_type": "code",
   "execution_count": 4,
   "id": "00b66584",
   "metadata": {},
   "outputs": [
    {
     "data": {
      "text/plain": [
       "' The Maximum number is: 7'"
      ]
     },
     "execution_count": 4,
     "metadata": {},
     "output_type": "execute_result"
    }
   ],
   "source": [
    "max_num(5, 7, 2)"
   ]
  },
  {
   "cell_type": "markdown",
   "id": "479c6160",
   "metadata": {},
   "source": [
    "### 2. Write a Python function to sum all the numbers in a list. \n",
    "- Sample List : (8, 2, 3, 0, 7) \n",
    "- Expected Output : 20 \n"
   ]
  },
  {
   "cell_type": "code",
   "execution_count": 5,
   "id": "97e9e686",
   "metadata": {},
   "outputs": [],
   "source": [
    "def sum_list(num):\n",
    "    return f\"Sum of all number: {sum(num)}\""
   ]
  },
  {
   "cell_type": "code",
   "execution_count": 6,
   "id": "18afd5ed",
   "metadata": {},
   "outputs": [],
   "source": [
    "same_lst = (1,2,3,4,5,6,7,8,9)"
   ]
  },
  {
   "cell_type": "code",
   "execution_count": 7,
   "id": "513ad92a",
   "metadata": {},
   "outputs": [
    {
     "data": {
      "text/plain": [
       "'Sum of all number: 45'"
      ]
     },
     "execution_count": 7,
     "metadata": {},
     "output_type": "execute_result"
    }
   ],
   "source": [
    "sum_list(same_lst)"
   ]
  },
  {
   "cell_type": "code",
   "execution_count": 8,
   "id": "10ebecb2",
   "metadata": {},
   "outputs": [],
   "source": [
    "def sum_lst(numbers):\n",
    "    total = 0\n",
    "    for number in numbers:\n",
    "        total += number\n",
    "    return f\"Total of all number is: {total}\""
   ]
  },
  {
   "cell_type": "code",
   "execution_count": 9,
   "id": "8c6d1e4d",
   "metadata": {},
   "outputs": [],
   "source": [
    "sum_lst1 = (8,2,3,0,7)"
   ]
  },
  {
   "cell_type": "code",
   "execution_count": 10,
   "id": "eb2ef3d8",
   "metadata": {},
   "outputs": [
    {
     "data": {
      "text/plain": [
       "'Total of all number is: 20'"
      ]
     },
     "execution_count": 10,
     "metadata": {},
     "output_type": "execute_result"
    }
   ],
   "source": [
    "sum_lst(sum_lst1)"
   ]
  },
  {
   "cell_type": "markdown",
   "id": "de138389",
   "metadata": {},
   "source": [
    "### 3. Write a Python function to multiply all the numbers in a list. \n",
    "- Sample List : (8, 2, 3, -1, 7) \n",
    "- Expected Output : -336 \n"
   ]
  },
  {
   "cell_type": "code",
   "execution_count": 11,
   "id": "a545357c",
   "metadata": {},
   "outputs": [],
   "source": [
    "def multiply(numbers):\n",
    "    num = 1\n",
    "    for number in numbers:\n",
    "        num *= number\n",
    "    return f\"Output: {num}\""
   ]
  },
  {
   "cell_type": "code",
   "execution_count": 12,
   "id": "f020415c",
   "metadata": {},
   "outputs": [],
   "source": [
    "mul = (8,2,3,-1,7)"
   ]
  },
  {
   "cell_type": "code",
   "execution_count": 13,
   "id": "4e85f97a",
   "metadata": {},
   "outputs": [
    {
     "data": {
      "text/plain": [
       "'Output: -336'"
      ]
     },
     "execution_count": 13,
     "metadata": {},
     "output_type": "execute_result"
    }
   ],
   "source": [
    "multiply(mul)"
   ]
  },
  {
   "cell_type": "markdown",
   "id": "804dd5d0",
   "metadata": {},
   "source": [
    "### 4. Write a Python program to reverse a string. \n",
    "- Sample String : \"1234abcd\" \n",
    "- Expected Output : \"dcba4321\""
   ]
  },
  {
   "cell_type": "code",
   "execution_count": 14,
   "id": "112740b4",
   "metadata": {},
   "outputs": [],
   "source": [
    "def rev_str(lst):\n",
    "    return lst[::-1]"
   ]
  },
  {
   "cell_type": "code",
   "execution_count": 15,
   "id": "e50dc77e",
   "metadata": {},
   "outputs": [],
   "source": [
    "str1 = \"1234abcd\""
   ]
  },
  {
   "cell_type": "code",
   "execution_count": 16,
   "id": "1a5084e3",
   "metadata": {},
   "outputs": [
    {
     "data": {
      "text/plain": [
       "'dcba4321'"
      ]
     },
     "execution_count": 16,
     "metadata": {},
     "output_type": "execute_result"
    }
   ],
   "source": [
    "rev_str(str1)"
   ]
  },
  {
   "cell_type": "code",
   "execution_count": 17,
   "id": "72327b39",
   "metadata": {},
   "outputs": [],
   "source": [
    "def rev_str1(lst):\n",
    "    rev = \"\"\n",
    "    for i in lst:\n",
    "        rev = i + rev\n",
    "    return rev"
   ]
  },
  {
   "cell_type": "code",
   "execution_count": 18,
   "id": "7ad6e2d4",
   "metadata": {},
   "outputs": [
    {
     "data": {
      "text/plain": [
       "'d,c,b,a,4,3,2,1'"
      ]
     },
     "execution_count": 18,
     "metadata": {},
     "output_type": "execute_result"
    }
   ],
   "source": [
    "rev1 = \"1,2,3,4,a,b,c,d\"\n",
    "rev_str1(rev1)"
   ]
  },
  {
   "cell_type": "markdown",
   "id": "af3e7224",
   "metadata": {},
   "source": [
    "### 5. Write a Python function to calculate the factorial of a number (a non-negative integer). The function accepts the number as an argument. "
   ]
  },
  {
   "cell_type": "code",
   "execution_count": 19,
   "id": "e22dc2cf",
   "metadata": {},
   "outputs": [],
   "source": [
    "def factotial(num):\n",
    "    if num < 0:\n",
    "        raise ValueError(\"The factorial is not deriv < 0\")\n",
    "    if num == 0 or num == 1:\n",
    "        return 1\n",
    "    return num * factotial( num - 1)"
   ]
  },
  {
   "cell_type": "code",
   "execution_count": 20,
   "id": "ec3c974b",
   "metadata": {},
   "outputs": [
    {
     "data": {
      "text/plain": [
       "120"
      ]
     },
     "execution_count": 20,
     "metadata": {},
     "output_type": "execute_result"
    }
   ],
   "source": [
    "factotial(5)"
   ]
  },
  {
   "cell_type": "markdown",
   "id": "334aa5cf",
   "metadata": {},
   "source": [
    "### 6. Write a Python function to check whether a number falls within a given range. "
   ]
  },
  {
   "cell_type": "code",
   "execution_count": 21,
   "id": "7e09ec6b",
   "metadata": {},
   "outputs": [],
   "source": [
    "def is_in_range(number, start, end):\n",
    "    return number >= start and number <= end"
   ]
  },
  {
   "cell_type": "code",
   "execution_count": 22,
   "id": "4b0efb2c",
   "metadata": {},
   "outputs": [
    {
     "name": "stdout",
     "output_type": "stream",
     "text": [
      "True\n"
     ]
    }
   ],
   "source": [
    "print(is_in_range(11,10,12))"
   ]
  },
  {
   "cell_type": "markdown",
   "id": "26b440b1",
   "metadata": {},
   "source": [
    "### 7. Write a Python function that accepts a string and counts the number of upper\n",
    "- and lower case letters.\n",
    "- Sample String : 'The quick Brow Fox'\n",
    "- Expected Output :\n",
    "- No. of Upper case characters : 3\n",
    "- No. of Lower case Characters : 12"
   ]
  },
  {
   "cell_type": "code",
   "execution_count": 23,
   "id": "023cfd4b",
   "metadata": {},
   "outputs": [],
   "source": [
    "def str_count(abc):\n",
    "    upper_case = 0\n",
    "    lower_case = 0\n",
    "    total = 0\n",
    "    for character in abc:\n",
    "        if character.isupper():\n",
    "            upper_case += 1\n",
    "        elif character.islower():\n",
    "            lower_case += 1\n",
    "    return f\"\"\" Sentence is : Number of Upper_Case is: {upper_case}    Number of Lower_Case is: {lower_case}\"\"\""
   ]
  },
  {
   "cell_type": "code",
   "execution_count": 24,
   "id": "46a2713f",
   "metadata": {},
   "outputs": [
    {
     "data": {
      "text/plain": [
       "' Sentence is : Number of Upper_Case is: 3    Number of Lower_Case is: 12'"
      ]
     },
     "execution_count": 24,
     "metadata": {},
     "output_type": "execute_result"
    }
   ],
   "source": [
    "str_count(\"The quick Brow Fox\")"
   ]
  },
  {
   "cell_type": "markdown",
   "id": "3e4a20e4",
   "metadata": {},
   "source": [
    "### 8. Write a Python function that takes a list and returns a new list with distinct\n",
    "- elements from the first list.\n",
    "- Sample List : [1,2,3,3,3,3,4,5]\n",
    "- Unique List : [1, 2, 3, 4, 5]"
   ]
  },
  {
   "cell_type": "code",
   "execution_count": 25,
   "id": "40adeeeb",
   "metadata": {},
   "outputs": [],
   "source": [
    "def uni_lst(num):\n",
    "    return list(set(num))"
   ]
  },
  {
   "cell_type": "code",
   "execution_count": 26,
   "id": "2de91772",
   "metadata": {},
   "outputs": [],
   "source": [
    "uni_lst1 = (1,2,3,3,3,3,4,5)"
   ]
  },
  {
   "cell_type": "code",
   "execution_count": 27,
   "id": "75a898c5",
   "metadata": {},
   "outputs": [],
   "source": [
    "uni_l = uni_lst(uni_lst1)"
   ]
  },
  {
   "cell_type": "code",
   "execution_count": 28,
   "id": "59132533",
   "metadata": {},
   "outputs": [
    {
     "name": "stdout",
     "output_type": "stream",
     "text": [
      "Unique list:  [1, 2, 3, 4, 5]\n"
     ]
    }
   ],
   "source": [
    "print(\"Unique list: \",uni_l)"
   ]
  },
  {
   "cell_type": "markdown",
   "id": "7df38780",
   "metadata": {},
   "source": [
    "### 9. Write a Python function that takes a number as a parameter and checks whether the number is prime or not.\n",
    "- Note : A prime number (or a prime) is a natural number greater than 1 and that\n",
    "- has no positive divisors other than 1 and itself."
   ]
  },
  {
   "cell_type": "code",
   "execution_count": 29,
   "id": "3b74c830",
   "metadata": {},
   "outputs": [],
   "source": [
    "def is_prime(number):\n",
    "    if number <= 1:\n",
    "        return False\n",
    "    for i in range (2, int(number ** 0.5) + 1):\n",
    "        if number % i == 0:\n",
    "            return False\n",
    "    return True"
   ]
  },
  {
   "cell_type": "code",
   "execution_count": 30,
   "id": "4f50a521",
   "metadata": {},
   "outputs": [
    {
     "data": {
      "text/plain": [
       "True"
      ]
     },
     "execution_count": 30,
     "metadata": {},
     "output_type": "execute_result"
    }
   ],
   "source": [
    "is_prime(2)"
   ]
  },
  {
   "cell_type": "markdown",
   "id": "b4355df1",
   "metadata": {},
   "source": [
    "### 10. Write a Python program to print the even numbers from a given list.\n",
    "- Sample List : [1, 2, 3, 4, 5, 6, 7, 8, 9]\n",
    "- Expected Result : [2, 4, 6, 8]"
   ]
  },
  {
   "cell_type": "code",
   "execution_count": 31,
   "id": "4f197ce5",
   "metadata": {},
   "outputs": [],
   "source": [
    "def even_num(num):\n",
    "    even = []\n",
    "    for i in num:\n",
    "        if i % 2 == 0:\n",
    "            even.append(i)\n",
    "    return even"
   ]
  },
  {
   "cell_type": "code",
   "execution_count": 32,
   "id": "bbe1d195",
   "metadata": {},
   "outputs": [],
   "source": [
    "sample = [1,2,3,4,5,6,7,8,9]"
   ]
  },
  {
   "cell_type": "code",
   "execution_count": 33,
   "id": "4f193e7f",
   "metadata": {},
   "outputs": [
    {
     "name": "stdout",
     "output_type": "stream",
     "text": [
      "Even numbers:  [2, 4, 6, 8]\n"
     ]
    }
   ],
   "source": [
    "even_n = even_num(sample)\n",
    "print(\"Even numbers: \", even_n)"
   ]
  },
  {
   "cell_type": "markdown",
   "id": "407966c2",
   "metadata": {},
   "source": [
    "### 11. \n",
    "- Write a Python function to check whether a number is \"Perfect\" or not. According to Wikipedia : In number theory, a perfect number is a positive integer that is equal to the sum of its proper positive divisors, that is, the sum of its positive divisors excluding the number itself (also known as its aliquot sum). Equivalently, a perfect number is a number that is half the sum of all of its positive divisors (including itself). Example : The first perfect number is 6, because 1, 2, and 3 are its proper positive divisors, and 1 + 2 + 3 = 6. Equivalently, the number 6 is equal to half the sum of all its positive divisors: ( 1 + 2 + 3 + 6 ) / 2 = 6. The next perfect number is 28 = 1 + 2 + 4 + 7 + 14. This is followed by the perfect numbers 496 and 8128."
   ]
  },
  {
   "cell_type": "code",
   "execution_count": 34,
   "id": "8224a7d0",
   "metadata": {},
   "outputs": [],
   "source": [
    "def is_perfect(number):\n",
    "    if number < 1:\n",
    "        return False\n",
    "    divisors_sum = sum([i for i in range(1, number) if number % i == 0])\n",
    "    return divisors_sum == number\n",
    "\n"
   ]
  },
  {
   "cell_type": "code",
   "execution_count": 35,
   "id": "8d15a509",
   "metadata": {},
   "outputs": [
    {
     "name": "stdout",
     "output_type": "stream",
     "text": [
      "28 is a perfect number.\n"
     ]
    }
   ],
   "source": [
    "# Example usage\n",
    "num = 28\n",
    "if is_perfect(num):\n",
    "    print(f\"{num} is a perfect number.\")\n",
    "else:\n",
    "    print(f\"{num} is not a perfect number.\")\n"
   ]
  },
  {
   "cell_type": "markdown",
   "id": "ae55cf52",
   "metadata": {},
   "source": [
    "### Write a Python function that checks whether a passed string is a palindrome or not.\n",
    "- Note: A palindrome is a word, phrase, or sequence that reads the same backward as forward, e.g., madam or nurses run."
   ]
  },
  {
   "cell_type": "code",
   "execution_count": 36,
   "id": "9ac6c282",
   "metadata": {},
   "outputs": [
    {
     "name": "stdout",
     "output_type": "stream",
     "text": [
      "\"nurses run\" is a palindrome.\n"
     ]
    }
   ],
   "source": [
    "def is_palindrome(s):\n",
    "    # Remove spaces and convert to lowercase for uniformity\n",
    "    s = s.replace(\" \", \"\").lower()\n",
    "    return s == s[::-1]\n",
    "\n",
    "# Example usage\n",
    "string = \"nurses run\"\n",
    "if is_palindrome(string):\n",
    "    print(f'\"{string}\" is a palindrome.')\n",
    "else:\n",
    "    print(f'\"{string}\" is not a palindrome.')\n"
   ]
  },
  {
   "cell_type": "code",
   "execution_count": null,
   "id": "3654efea",
   "metadata": {},
   "outputs": [],
   "source": []
  }
 ],
 "metadata": {
  "kernelspec": {
   "display_name": "Python 3 (ipykernel)",
   "language": "python",
   "name": "python3"
  },
  "language_info": {
   "codemirror_mode": {
    "name": "ipython",
    "version": 3
   },
   "file_extension": ".py",
   "mimetype": "text/x-python",
   "name": "python",
   "nbconvert_exporter": "python",
   "pygments_lexer": "ipython3",
   "version": "3.11.4"
  }
 },
 "nbformat": 4,
 "nbformat_minor": 5
}
