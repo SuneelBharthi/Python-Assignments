{
 "cells": [
  {
   "cell_type": "markdown",
   "id": "c3e7b809",
   "metadata": {},
   "source": [
    "# Strings Assignments "
   ]
  },
  {
   "cell_type": "markdown",
   "id": "eb27fa80",
   "metadata": {},
   "source": [
    "## 1. \n",
    " * Write a program that accepts a string from user. Your program should count and display number of  vowels in that string."
   ]
  },
  {
   "cell_type": "code",
   "execution_count": 4,
   "id": "d440ab1f",
   "metadata": {},
   "outputs": [
    {
     "name": "stdout",
     "output_type": "stream",
     "text": [
      "Total Vowals are occurs in the sentence are: 5\n"
     ]
    }
   ],
   "source": [
    "vowels = ['a','e','i','o','u']\n",
    "sent = \"data science is good\"\n",
    "count = 0\n",
    "\n",
    "for char in vowels:\n",
    "    if char in vowels:\n",
    "        count += 1\n",
    "print(f\"Total Vowals are occurs in the sentence are: {count}\")"
   ]
  },
  {
   "cell_type": "markdown",
   "id": "c75f9f0c",
   "metadata": {},
   "source": [
    "##  2. \n",
    " * Write a program that reads a string from keyboard and display: \n",
    "* The number of uppercase letters in the string \n",
    "* The number of lowercase letters in the string \n",
    "* The number of digits in the string \n",
    "* The number of whitespace characters in the string \n",
    " \n"
   ]
  },
  {
   "cell_type": "code",
   "execution_count": 20,
   "id": "474c59d5",
   "metadata": {},
   "outputs": [
    {
     "name": "stdout",
     "output_type": "stream",
     "text": [
      " \n",
      "Sentence is :\"Learning Data Science is soo Good. In 2025 highly in_demond skill:\"\n",
      "          \n",
      "           Number of Upper_Case is: 5\n",
      "           Number of Lower_Case is: 44\n",
      "           Number of Digits is    : 4\n",
      "           Number of Spaces is    : 10\n",
      "\n",
      "\n"
     ]
    }
   ],
   "source": [
    "sent = \"Learning Data Science is soo Good. In 2025 highly in_demond skill:\"\n",
    "\n",
    "upper_case = 0\n",
    "lower_case = 0\n",
    "t_digit = 0\n",
    "spaces = 0\n",
    "\n",
    "for char in sent:\n",
    "    if char.isupper():\n",
    "        upper_case += 1\n",
    "    elif char.islower():\n",
    "        lower_case += 1\n",
    "    elif char.isdigit():\n",
    "        t_digit += 1\n",
    "    elif char.isspace():\n",
    "        spaces += 1\n",
    "    \n",
    "print(f\"\"\" \n",
    "Sentence is :\"{sent}\"\n",
    "          \n",
    "           Number of Upper_Case is: {upper_case}\n",
    "           Number of Lower_Case is: {lower_case}\n",
    "           Number of Digits is    : {t_digit}\n",
    "           Number of Spaces is    : {spaces}\n",
    "\n",
    "\"\"\")"
   ]
  },
  {
   "cell_type": "markdown",
   "id": "94b52272",
   "metadata": {},
   "source": [
    "## 3. \n",
    " * Write a Python program that accepts a string from user. Your program should create and display a \n",
    "new string where the first and last characters have been exchanged. \n",
    "For example if the user enters the string 'HELLO' then new string would be 'OELLH' \n",
    " \n",
    " \n",
    " "
   ]
  },
  {
   "cell_type": "code",
   "execution_count": 33,
   "id": "ce048a63",
   "metadata": {},
   "outputs": [
    {
     "name": "stdout",
     "output_type": "stream",
     "text": [
      " Enter a string: Hello\n",
      "The new string is: oellH\n"
     ]
    }
   ],
   "source": [
    "\n",
    "astr = input(\" Enter a string: \")\n",
    "\n",
    "new_string = astr[-1] + astr[1:-1] + astr[0]\n",
    "\n",
    "print(f\"The new string is: {new_string}\")"
   ]
  },
  {
   "cell_type": "markdown",
   "id": "a6eb379e",
   "metadata": {},
   "source": [
    "## 4.\n",
    " * Write a Python program that accepts a string from user. Your program should create a new string in \n",
    "reverse of first string and display it. \n",
    "For example if the user enters the string 'EXAM' then new string would be 'MAXE' \n"
   ]
  },
  {
   "cell_type": "code",
   "execution_count": 55,
   "id": "d81b5a1e",
   "metadata": {},
   "outputs": [
    {
     "name": "stdout",
     "output_type": "stream",
     "text": [
      "Enter a string: Hello Worls\n",
      "The new string is: slroW olleH\n"
     ]
    }
   ],
   "source": [
    "astr = input(\"Enter a string: \")\n",
    "new_str = astr[::-1]\n",
    "print(f\"The new string is: {new_str}\")"
   ]
  },
  {
   "cell_type": "markdown",
   "id": "8360d262",
   "metadata": {},
   "source": [
    "## 5.\n",
    " * Write a Python program that accepts a string from user. Your program should create a new string by \n",
    "shifting one position to left. \n",
    "For example if the user enters the string 'examination 2021' then new string would be 'xamination \n",
    "2021e' "
   ]
  },
  {
   "cell_type": "code",
   "execution_count": 35,
   "id": "3fab0d79",
   "metadata": {},
   "outputs": [
    {
     "name": "stdout",
     "output_type": "stream",
     "text": [
      " Enter a string: Exam 2024\n",
      "The new string is: xam 202E\n"
     ]
    }
   ],
   "source": [
    "astr = input(\" Enter a string: \")\n",
    "\n",
    "new_string = astr[1:-1] + astr[0]\n",
    "\n",
    "print(f\"The new string is: {new_string}\")"
   ]
  },
  {
   "cell_type": "markdown",
   "id": "8ecf77c1",
   "metadata": {},
   "source": [
    "## 6. \n",
    " * Write a program that asks the user to input his name and print its initials. Assuming that the user \n",
    "always types first name, middle name and last name and does not include any unnecessary spaces. \n",
    "For example, if the user enters Ajay Kumar Garg the program should display A. K. G. \n",
    "- Note:Don't use split() method "
   ]
  },
  {
   "cell_type": "code",
   "execution_count": 40,
   "id": "76fae742",
   "metadata": {},
   "outputs": [
    {
     "name": "stdout",
     "output_type": "stream",
     "text": [
      "Enter your full name (First Middle Last): Suneel Bharthi Goswami\n",
      "The initials are: S. B. G.\n"
     ]
    }
   ],
   "source": [
    "\n",
    "user_input = input(\"Enter your full name (First Middle Last): \")\n",
    "initials = \"\"\n",
    "capture_initial = True\n",
    "\n",
    "for char in user_input:\n",
    "    if capture_initial and char.isalpha():\n",
    "        initials += char.upper() + \". \"\n",
    "        capture_initial = False \n",
    "    elif char == \" \":  \n",
    "        capture_initial = True\n",
    "\n",
    "print(f\"The initials are: {initials.strip()}\")\n"
   ]
  },
  {
   "cell_type": "markdown",
   "id": "09d3a44c",
   "metadata": {},
   "source": [
    "## 7. \n",
    " * A palindrome is a string that reads the same backward as forward. For example, the words dad, \n",
    "madam and radar are all palindromes. Write a programs that determines whether the string is a \n",
    "palindrome. \n",
    "- Note: do not use reverse() method"
   ]
  },
  {
   "cell_type": "code",
   "execution_count": 52,
   "id": "61f5d67e",
   "metadata": {},
   "outputs": [
    {
     "name": "stdout",
     "output_type": "stream",
     "text": [
      "Enter the word: madam\n",
      "yes madam it is Palindrome..!\n"
     ]
    }
   ],
   "source": [
    "str1 = str(input(\"Enter the word: \"))\n",
    "if str1 == str1[::-1]:\n",
    "    print(f\"yes {str1} it is Palindrome..!\")\n",
    "else:\n",
    "    print(f\"It's {str1} Not_Palindrome\" )"
   ]
  },
  {
   "cell_type": "markdown",
   "id": "2f6f1c99",
   "metadata": {},
   "source": [
    "## 8. \n",
    " * Write a program that display following output: \n",
    "- SHIFT \n",
    "- HIFTS \n",
    "- IFTSH \n",
    "- FTSHI \n",
    "- TSHIF \n",
    "- SHIFT "
   ]
  },
  {
   "cell_type": "code",
   "execution_count": 62,
   "id": "5b39798f",
   "metadata": {},
   "outputs": [
    {
     "name": "stdout",
     "output_type": "stream",
     "text": [
      "SHIFT\n",
      "HIFTS\n",
      "IFTSH\n",
      "FTSHI\n",
      "TSHIF\n",
      "SHIFT\n"
     ]
    }
   ],
   "source": [
    "word = \"SHIFT\"\n",
    "\n",
    "for i in range(len(word)):\n",
    "    rotated_word = word[i:] + word[:i]\n",
    "    print(rotated_word)\n",
    "print(word)"
   ]
  },
  {
   "cell_type": "markdown",
   "id": "b2341026",
   "metadata": {},
   "source": [
    "## 9. \n",
    " * Write a program in python that accepts a string to setup a passwords. Your entered password must \n",
    "meet the following requirements: \n",
    "- The password must be at least eight characters long. \n",
    "- It must contain at least one uppercase letter. \n",
    "- It must contain at least one lowercase letter. \n",
    "- It must contain at least one numeric digit. \n",
    "- Your program should should perform this validation. "
   ]
  },
  {
   "cell_type": "code",
   "execution_count": 70,
   "id": "3f5a34ec",
   "metadata": {},
   "outputs": [
    {
     "name": "stdout",
     "output_type": "stream",
     "text": [
      "Password should cotain 1.Upper, 1.lower, 1.digit\n",
      "Set your password: Smit@111\n",
      "Password is valid.\n"
     ]
    }
   ],
   "source": [
    "print(\"Password should cotain 1.Upper, 1.lower, 1.digit\")\n",
    "\n",
    "\n",
    "password = input(\"Set your password: \")\n",
    "\n",
    "\n",
    "if len(password) < 8:\n",
    "    print(\"Password must be at least 8 characters long.\")\n",
    "\n",
    "elif not any(char.isupper() for char in password):\n",
    "    print(\"Password must contain at least one uppercase letter.\")\n",
    "\n",
    "elif not any(char.islower() for char in password):\n",
    "    print(\"Password must contain at least one lowercase letter.\")\n",
    "    \n",
    "elif not any(char.isdigit() for char in password):\n",
    "    print(\"Password must contain at least one numeric digit.\")\n",
    "    \n",
    "else:\n",
    "    print(\"Password is valid.\")\n",
    "\n"
   ]
  },
  {
   "cell_type": "code",
   "execution_count": null,
   "id": "86a98d07",
   "metadata": {},
   "outputs": [],
   "source": []
  }
 ],
 "metadata": {
  "kernelspec": {
   "display_name": "Python 3 (ipykernel)",
   "language": "python",
   "name": "python3"
  },
  "language_info": {
   "codemirror_mode": {
    "name": "ipython",
    "version": 3
   },
   "file_extension": ".py",
   "mimetype": "text/x-python",
   "name": "python",
   "nbconvert_exporter": "python",
   "pygments_lexer": "ipython3",
   "version": "3.11.4"
  }
 },
 "nbformat": 4,
 "nbformat_minor": 5
}
