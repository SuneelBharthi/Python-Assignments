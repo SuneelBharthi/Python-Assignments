{
 "cells": [
  {
   "cell_type": "markdown",
   "id": "6d536ef7",
   "metadata": {},
   "source": [
    "# Conditional Structures \n",
    "1. Write a program that prompts the user to input a number and display if the number \n",
    "is even or odd. \n"
   ]
  },
  {
   "cell_type": "code",
   "execution_count": 2,
   "id": "c9c61872",
   "metadata": {},
   "outputs": [
    {
     "name": "stdout",
     "output_type": "stream",
     "text": [
      "Enter a number: 13\n",
      "The number is odd.\n"
     ]
    }
   ],
   "source": [
    "number = int(input(\"Enter a number: \"))\n",
    "\n",
    "if number % 2 == 0:\n",
    "    print(\"The number is even.\")\n",
    "else:\n",
    "    print(\"The number is odd.\")\n"
   ]
  },
  {
   "cell_type": "markdown",
   "id": "f3c782d8",
   "metadata": {},
   "source": [
    "2.\n",
    " * Write a Python program that takes an age as input and determines whether a person \n",
    "is eligible to vote. If the age is 18 or above, print \"You are eligible to vote.\" Otherwise, \n",
    "print \"You are not eligible to vote yet.\". \n"
   ]
  },
  {
   "cell_type": "code",
   "execution_count": 3,
   "id": "c2c3a862",
   "metadata": {},
   "outputs": [
    {
     "name": "stdout",
     "output_type": "stream",
     "text": [
      "Enter your age: 21\n",
      "You are eligible to vote.\n"
     ]
    }
   ],
   "source": [
    "age = int(input(\"Enter your age: \"))\n",
    "\n",
    "if age >= 18:\n",
    "    print(\"You are eligible to vote.\")\n",
    "else:\n",
    "    print(\"You are not eligible to vote yet.\")\n"
   ]
  },
  {
   "cell_type": "markdown",
   "id": "26d16073",
   "metadata": {},
   "source": [
    "## 3.\n",
    " * Write a program that prompts the user to input two integers and outputs the largest. "
   ]
  },
  {
   "cell_type": "code",
   "execution_count": 4,
   "id": "847b3aba",
   "metadata": {},
   "outputs": [
    {
     "name": "stdout",
     "output_type": "stream",
     "text": [
      "Enter the first number: 13\n",
      "Enter the second number: 9\n",
      "The largest number is: 13\n"
     ]
    }
   ],
   "source": [
    "num1 = int(input(\"Enter the first number: \"))\n",
    "num2 = int(input(\"Enter the second number: \"))\n",
    "\n",
    "if num1 > num2:\n",
    "    print(f\"The largest number is: {num1}\")\n",
    "elif num2 > num1:\n",
    "    print(f\"The largest number is: {num2}\")\n",
    "else:\n",
    "    print(\"Both numbers are equal.\")\n"
   ]
  },
  {
   "cell_type": "markdown",
   "id": "0a6f4826",
   "metadata": {},
   "source": [
    "## 4.\n",
    " * Write a program that prompts the user to enter a number and determines whether it \n",
    "is positive, negative, or zero. The program should print \"Positive\" if the number is \n",
    "greater than 0, \"Negative\" if the number is less than 0, and \"Zero\" if the number is 0. \n"
   ]
  },
  {
   "cell_type": "code",
   "execution_count": 5,
   "id": "5e5e51ba",
   "metadata": {},
   "outputs": [
    {
     "name": "stdout",
     "output_type": "stream",
     "text": [
      "Enter a number: 13\n",
      "Positive\n"
     ]
    }
   ],
   "source": [
    "number = float(input(\"Enter a number: \"))\n",
    "\n",
    "if number > 0:\n",
    "    print(\"Positive\")\n",
    "elif number < 0:\n",
    "    print(\"Negative\")\n",
    "else:\n",
    "    print(\"Zero\")\n"
   ]
  },
  {
   "cell_type": "markdown",
   "id": "64e91175",
   "metadata": {},
   "source": [
    "## 5.\n",
    " * Write a program that prompts the user to enter their age and prints the \n",
    "corresponding age group. The program should use the following age groups: \n",
    "0-12: Child \n",
    "13-19: Teenager \n",
    "20-59: Adult \n",
    "60 and above: Senior Citizen \n"
   ]
  },
  {
   "cell_type": "code",
   "execution_count": 6,
   "id": "81433bfb",
   "metadata": {},
   "outputs": [
    {
     "name": "stdout",
     "output_type": "stream",
     "text": [
      "Enter your age: 21\n",
      "Adult\n"
     ]
    }
   ],
   "source": [
    "age = int(input(\"Enter your age: \"))\n",
    "\n",
    "if 0 <= age <= 12:\n",
    "    print(\"Child\")\n",
    "elif 13 <= age <= 19:\n",
    "    print(\"Teenager\")\n",
    "elif 20 <= age <= 59:\n",
    "    print(\"Adult\")\n",
    "else:\n",
    "    print(\"Senior Citizen\")\n"
   ]
  },
  {
   "cell_type": "markdown",
   "id": "c75b64e2",
   "metadata": {},
   "source": [
    "## 6.\n",
    " * Write a program that prompts the user to input a number from 1 to 7. The program \n",
    "should display the corresponding day for the given number. For example, if the user \n",
    "types 1, the output should be Sunday. If the user types 7, the output should be \n",
    "Saturday. If the number is not between 1 to 7 user should get error message as shown \n",
    "in sample output. \n"
   ]
  },
  {
   "cell_type": "code",
   "execution_count": 7,
   "id": "836c500e",
   "metadata": {},
   "outputs": [
    {
     "name": "stdout",
     "output_type": "stream",
     "text": [
      "Enter a number (1-7): 5\n",
      "Thursday\n"
     ]
    }
   ],
   "source": [
    "day_number = int(input(\"Enter a number (1-7): \"))\n",
    "\n",
    "if day_number == 1:\n",
    "    print(\"Sunday\")\n",
    "elif day_number == 2:\n",
    "    print(\"Monday\")\n",
    "elif day_number == 3:\n",
    "    print(\"Tuesday\")\n",
    "elif day_number == 4:\n",
    "    print(\"Wednesday\")\n",
    "elif day_number == 5:\n",
    "    print(\"Thursday\")\n",
    "elif day_number == 6:\n",
    "    print(\"Friday\")\n",
    "elif day_number == 7:\n",
    "    print(\"Saturday\")\n",
    "else:\n",
    "    print(\"Error: Please enter a number between 1 and 7.\")\n"
   ]
  },
  {
   "cell_type": "markdown",
   "id": "0a5c8b13",
   "metadata": {},
   "source": [
    "## 7.\n",
    "* Write a program that prompts the user to enter their weight (in kilograms) and height \n",
    "(in meters). The program should calculate the Body Mass Index (BMI) using the formula: \n",
    "BMI = weight / (height * height). The program should then classify the BMI into one of \n",
    "the following categories: \n",
    "less than 18.5 - Underweight \n",
    "BMI between 18.5 and 24.9 - Normal weight \n",
    "BMI between 25 and 29.9 - Overweight \n",
    "BMI 30 or greater - Obesity \n"
   ]
  },
  {
   "cell_type": "code",
   "execution_count": 9,
   "id": "25d72ff8",
   "metadata": {},
   "outputs": [
    {
     "name": "stdout",
     "output_type": "stream",
     "text": [
      "Enter your weight (in kg): 64\n",
      "Enter your height (in meters): 0.13716\n",
      "Obesity\n"
     ]
    }
   ],
   "source": [
    "weight = float(input(\"Enter your weight (in kg): \"))\n",
    "height = float(input(\"Enter your height (in meters): \"))\n",
    "\n",
    "bmi = weight / (height * height)\n",
    "\n",
    "if bmi < 18.5:\n",
    "    print(\"Underweight\")\n",
    "elif 18.5 <= bmi < 24.9:\n",
    "    print(\"Normal weight\")\n",
    "elif 25 <= bmi < 29.9:\n",
    "    print(\"Overweight\")\n",
    "else:\n",
    "    print(\"Obesity\")\n"
   ]
  },
  {
   "cell_type": "markdown",
   "id": "cb936dcd",
   "metadata": {},
   "source": [
    "## 8.\n",
    " * The marks obtained by a student in 3 different subjects are input by the user. Your \n",
    "program should calculate the average of subjects and display the grade. The student \n",
    "gets a grade as per the following rules: \n",
    "- Average Grade \n",
    "- 90-100 A \n",
    "- 80-89 B \n",
    "- 70-79 C \n",
    "- 60-69 D \n",
    "- 0-59 F \n"
   ]
  },
  {
   "cell_type": "code",
   "execution_count": 10,
   "id": "fce030f0",
   "metadata": {},
   "outputs": [
    {
     "name": "stdout",
     "output_type": "stream",
     "text": [
      "Enter marks for subject 1: 75\n",
      "Enter marks for subject 2: 79\n",
      "Enter marks for subject 3: 81\n",
      "Grade: C\n"
     ]
    }
   ],
   "source": [
    "marks1 = float(input(\"Enter marks for subject 1: \"))\n",
    "marks2 = float(input(\"Enter marks for subject 2: \"))\n",
    "marks3 = float(input(\"Enter marks for subject 3: \"))\n",
    "\n",
    "average = (marks1 + marks2 + marks3) / 3\n",
    "\n",
    "if 90 <= average <= 100:\n",
    "    print(\"Grade: A\")\n",
    "elif 80 <= average < 90:\n",
    "    print(\"Grade: B\")\n",
    "elif 70 <= average < 80:\n",
    "    print(\"Grade: C\")\n",
    "elif 60 <= average < 70:\n",
    "    print(\"Grade: D\")\n",
    "else:\n",
    "    print(\"Grade: F\")\n"
   ]
  },
  {
   "cell_type": "markdown",
   "id": "8233bf43",
   "metadata": {},
   "source": [
    "## 9.\n",
    " * The roots of the quadratic equation ax2\n",
    "- + bx + c = 0, a ≠ 0 are given by the following \n",
    "- formula: \n",
    "- In this formula, the term b2\n",
    "- 4ac is called the discriminant. If b2\n",
    "- 4ac = 0, then the \n",
    "-equation has two equal roots. \n",
    "-If b2\n",
    "- 4ac > 0, the equation has two real roots. If b2\n",
    "- 4ac < 0, the equation has two \n",
    "- complex roots. \n",
    "- Write a program that prompts the user to input the value of a (the coefficient of x2),\n",
    "b (the coefficient of x), and c (the constant term) and outputs the roots of the quadratic \n",
    "equation. "
   ]
  },
  {
   "cell_type": "code",
   "execution_count": 11,
   "id": "1751b8f1",
   "metadata": {},
   "outputs": [
    {
     "name": "stdout",
     "output_type": "stream",
     "text": [
      "Enter coefficient a: 24\n",
      "Enter coefficient b: 23\n",
      "Enter coefficient c: 21\n",
      "The roots are complex: -0.4791666666666667 + 0.8033674785274517i, -0.4791666666666667 - 0.8033674785274517i\n"
     ]
    }
   ],
   "source": [
    "import math\n",
    "\n",
    "a = float(input(\"Enter coefficient a: \"))\n",
    "b = float(input(\"Enter coefficient b: \"))\n",
    "c = float(input(\"Enter coefficient c: \"))\n",
    "\n",
    "discriminant = b**2 - 4*a*c\n",
    "\n",
    "if discriminant > 0:\n",
    "    root1 = (-b + math.sqrt(discriminant)) / (2*a)\n",
    "    root2 = (-b - math.sqrt(discriminant)) / (2*a)\n",
    "    print(f\"The roots are real and different: {root1}, {root2}\")\n",
    "elif discriminant == 0:\n",
    "    root = -b / (2*a)\n",
    "    print(f\"The root is real and equal: {root}\")\n",
    "else:\n",
    "    realPart = -b / (2*a)\n",
    "    imaginaryPart = math.sqrt(abs(discriminant)) / (2*a)\n",
    "    print(f\"The roots are complex: {realPart} + {imaginaryPart}i, {realPart} - {imaginaryPart}i\")\n"
   ]
  },
  {
   "cell_type": "markdown",
   "id": "43940066",
   "metadata": {},
   "source": [
    "10. Write a program that prompts the user to enter three numbers and sorts them in \n",
    "ascending order. The program should print the sorted numbers. "
   ]
  },
  {
   "cell_type": "code",
   "execution_count": 12,
   "id": "245698b4",
   "metadata": {},
   "outputs": [
    {
     "name": "stdout",
     "output_type": "stream",
     "text": [
      "Enter the first number: 13\n",
      "Enter the second number: 32\n",
      "Enter the third number: 4\n",
      "Sorted numbers: 4, 13, 32\n"
     ]
    }
   ],
   "source": [
    "num1 = int(input(\"Enter the first number: \"))\n",
    "num2 = int(input(\"Enter the second number: \"))\n",
    "num3 = int(input(\"Enter the third number: \"))\n",
    "numbers = [num1, num2, num3]\n",
    "numbers.sort()\n",
    "print(f\"Sorted numbers: {numbers[0]}, {numbers[1]}, {numbers[2]}\")\n"
   ]
  },
  {
   "cell_type": "markdown",
   "id": "86808c9c",
   "metadata": {},
   "source": [
    "### 11.\n",
    "* Write a program that prompts the user to input three integers and outputs the \n",
    "largest."
   ]
  },
  {
   "cell_type": "code",
   "execution_count": 13,
   "id": "d9999bd8",
   "metadata": {},
   "outputs": [
    {
     "name": "stdout",
     "output_type": "stream",
     "text": [
      "Enter the first number: 13\n",
      "Enter the second number: 32\n",
      "Enter the third number: 43\n",
      "The largest number is: 43\n"
     ]
    }
   ],
   "source": [
    "num1 = int(input(\"Enter the first number: \"))\n",
    "num2 = int(input(\"Enter the second number: \"))\n",
    "num3 = int(input(\"Enter the third number: \"))\n",
    "\n",
    "largest = max(num1, num2, num3)\n",
    "print(f\"The largest number is: {largest}\")\n"
   ]
  },
  {
   "cell_type": "markdown",
   "id": "df61f277",
   "metadata": {},
   "source": [
    "## 12.\n",
    " * Write a program that prompts the user to input a character and determine the \n",
    "character is vowel or consonant. \n"
   ]
  },
  {
   "cell_type": "code",
   "execution_count": 17,
   "id": "67762984",
   "metadata": {},
   "outputs": [
    {
     "name": "stdout",
     "output_type": "stream",
     "text": [
      "Enter a character: a\n",
      "The character is a vowel.\n"
     ]
    }
   ],
   "source": [
    "char = input(\"Enter a character: \").lower()\n",
    "\n",
    "if char in \"aeiou\":\n",
    "    print(\"The character is a vowel.\")\n",
    "else:\n",
    "    print(\"The character is a consonant.\")\n"
   ]
  },
  {
   "cell_type": "markdown",
   "id": "bbc2e4a6",
   "metadata": {},
   "source": [
    "## 13. \n",
    " * Write a program that prompts the user to input a year and determine whether the \n",
    "year is a leap year or not. \n",
    "- Leap Years are any year that can be evenly divided by 4. A year that is evenly divisible by \n",
    "- 100 is a leap year only if it is also evenly divisible by 400. Example: \n",
    "- 1992 Leap Year \n",
    "- 2000 Leap Year \n",
    "- 1900 NOT a Leap Year \n",
    "- 1995 NOT a Leap Year \n"
   ]
  },
  {
   "cell_type": "code",
   "execution_count": 19,
   "id": "3830e95e",
   "metadata": {},
   "outputs": [
    {
     "name": "stdout",
     "output_type": "stream",
     "text": [
      "Enter a year: 2024\n",
      "2024 is a Leap Year.\n"
     ]
    }
   ],
   "source": [
    "year = int(input(\"Enter a year: \"))\n",
    "\n",
    "if (year % 4 == 0 and year % 100 != 0) or (year % 400 == 0):\n",
    "    print(f\"{year} is a Leap Year.\")\n",
    "else:\n",
    "    print(f\"{year} is not a Leap Year.\")\n"
   ]
  },
  {
   "cell_type": "markdown",
   "id": "5e514998",
   "metadata": {},
   "source": [
    "## 14.\n",
    " * Write a program that prompts the user to input number of calls and calculate the \n",
    "monthly telephone bills as per the following rule: \n",
    "- Minimum Rs. 200 for up to 100 calls. \n",
    "- Plus Rs. 0.60 per call for next 50 calls. \n",
    "- Plus Rs. 0.50 per call for next 50 calls. \n",
    "- Plus Rs. 0.40 per call for any call beyond 200 calls. "
   ]
  },
  {
   "cell_type": "code",
   "execution_count": 20,
   "id": "77afbd0f",
   "metadata": {},
   "outputs": [
    {
     "name": "stdout",
     "output_type": "stream",
     "text": [
      "Enter the number of calls: 190\n",
      "Your total bill is: Rs. 250.00\n"
     ]
    }
   ],
   "source": [
    "calls = int(input(\"Enter the number of calls: \"))\n",
    "\n",
    "if calls <= 100:\n",
    "    bill = 200\n",
    "elif calls <= 150:\n",
    "    bill = 200 + (calls - 100) * 0.60\n",
    "elif calls <= 200:\n",
    "    bill = 200 + 50 * 0.60 + (calls - 150) * 0.50\n",
    "else:\n",
    "    bill = 200 + 50 * 0.60 + 50 * 0.50 + (calls - 200) * 0.40\n",
    "\n",
    "print(f\"Your total bill is: Rs. {bill:.2f}\")\n"
   ]
  },
  {
   "cell_type": "code",
   "execution_count": null,
   "id": "9dbdb76e",
   "metadata": {},
   "outputs": [],
   "source": []
  }
 ],
 "metadata": {
  "kernelspec": {
   "display_name": "Python 3 (ipykernel)",
   "language": "python",
   "name": "python3"
  },
  "language_info": {
   "codemirror_mode": {
    "name": "ipython",
    "version": 3
   },
   "file_extension": ".py",
   "mimetype": "text/x-python",
   "name": "python",
   "nbconvert_exporter": "python",
   "pygments_lexer": "ipython3",
   "version": "3.11.4"
  }
 },
 "nbformat": 4,
 "nbformat_minor": 5
}
