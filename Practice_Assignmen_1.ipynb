{
 "cells": [
  {
   "cell_type": "markdown",
   "metadata": {
    "id": "CUdxU51J52Jc"
   },
   "source": [
    "# Topic: print()"
   ]
  },
  {
   "cell_type": "markdown",
   "metadata": {
    "id": "O4XtVMeN52Ji"
   },
   "source": [
    "1) Using the python print function print any string value, integer value, boolean value, float value in single print command"
   ]
  },
  {
   "cell_type": "code",
   "execution_count": 1,
   "metadata": {},
   "outputs": [
    {
     "name": "stdout",
     "output_type": "stream",
     "text": [
      "Hello 10 True 99.9\n"
     ]
    }
   ],
   "source": [
    "print(\"Hello\", 10, 12>11, 99.9 )"
   ]
  },
  {
   "cell_type": "markdown",
   "metadata": {
    "id": "iNinlTd052Jr"
   },
   "source": [
    "2) Using the python print function print hyphon(-) separated any string value, integer value, boolean value, float value in single print command"
   ]
  },
  {
   "cell_type": "code",
   "execution_count": 4,
   "metadata": {},
   "outputs": [
    {
     "name": "stdout",
     "output_type": "stream",
     "text": [
      "Hello-12-False-99.8\n"
     ]
    }
   ],
   "source": [
    "print(\"Hello\", 12, 12>13, 99.8, sep=\"-\")"
   ]
  },
  {
   "cell_type": "markdown",
   "metadata": {
    "id": "4fNVS99O52Jt"
   },
   "source": [
    "3) Using the python print function print any string value, integer value, boolean value, float value in separate print command.\n",
    "But every value must be space separated and in single line"
   ]
  },
  {
   "cell_type": "code",
   "execution_count": 7,
   "metadata": {},
   "outputs": [
    {
     "name": "stdout",
     "output_type": "stream",
     "text": [
      "Hello 12 False 99.8\n"
     ]
    }
   ],
   "source": [
    "print(\"Hello\", 12, 12>13, 99.8, sep=\"   \")"
   ]
  },
  {
   "cell_type": "markdown",
   "metadata": {
    "id": "akEUFstT52Jv"
   },
   "source": [
    "4) Can a python print function take no value to print???\n"
   ]
  },
  {
   "cell_type": "code",
   "execution_count": 8,
   "metadata": {},
   "outputs": [
    {
     "name": "stdout",
     "output_type": "stream",
     "text": [
      "\n"
     ]
    }
   ],
   "source": [
    "print(\"\")"
   ]
  },
  {
   "cell_type": "markdown",
   "metadata": {
    "id": "vFPOFKW_52Jx"
   },
   "source": [
    "# TOPIC :Variables in Python Operators"
   ]
  },
  {
   "cell_type": "markdown",
   "metadata": {
    "id": "AzBzVODl52Jy"
   },
   "source": [
    "5) One of my friends name is Mr. Ahmed. He is 30 years old.  He is a lawer by profession. He has done his bachelors in law in the year 2005. He is working with a reputable law firm 'The Himalya Associates' in Karachi since 2015.\n",
    "He is a handsome lawer with height of 5.10 feets and weight 70600g. His monthly income is Rs. 200k PKR.\n",
    "\n",
    "Note: Create variables from above text and also assign values from the text.  "
   ]
  },
  {
   "cell_type": "code",
   "execution_count": 11,
   "metadata": {},
   "outputs": [],
   "source": [
    "name = \"Mr. Ahmed\"\n",
    "age = 30\n",
    "profession = \"Lawer\"\n",
    "graduation_year = 2005\n",
    "working_year = 2015\n",
    "firm_name = \"The Himalya Associates\"\n",
    "height = 5.10\n",
    "weight = 70600\n",
    "income = 200000"
   ]
  },
  {
   "cell_type": "markdown",
   "metadata": {
    "id": "Uaf--v5S52J0"
   },
   "source": [
    "6)How many years has been to Mr. Ahmed after his bachelors degree? Create a variable that hold current year value and then subtract it from his passout year"
   ]
  },
  {
   "cell_type": "code",
   "execution_count": 38,
   "metadata": {},
   "outputs": [
    {
     "name": "stdout",
     "output_type": "stream",
     "text": [
      " Mr. Ahmed have done 19-years after graguation: \n"
     ]
    }
   ],
   "source": [
    "old = 2024 - graduation_year \n",
    "print(f\" Mr. Ahmed have done {old}-years after graguation: \")"
   ]
  },
  {
   "cell_type": "markdown",
   "metadata": {
    "id": "SAQtVyvD52J1"
   },
   "source": [
    "7) How many years has Mr. Ahmed been working with law firm 'The Himalya Associates'. Create necesary variables and print the correct number of years in working in the firm"
   ]
  },
  {
   "cell_type": "code",
   "execution_count": 14,
   "metadata": {},
   "outputs": [
    {
     "name": "stdout",
     "output_type": "stream",
     "text": [
      "After bachelors degree Mr. Ahmed 10 years of working expiriance: \n"
     ]
    }
   ],
   "source": [
    "worked = working_year - graduation_year\n",
    "print(f\"After bachelors degree Mr. Ahmed {worked} years of working expiriance: \")"
   ]
  },
  {
   "cell_type": "markdown",
   "metadata": {
    "id": "Gnk1kIUj52J3"
   },
   "source": [
    "8)Convert the monthly income of Mr. Ahmed in dollars.  Create necesary variables and print the income in dollars."
   ]
  },
  {
   "cell_type": "code",
   "execution_count": 21,
   "metadata": {},
   "outputs": [
    {
     "name": "stdout",
     "output_type": "stream",
     "text": [
      "Mr. Ahmed's monthly income is 200000pkr: . & when convert in Dollar's 718.7780772686433$ \n"
     ]
    }
   ],
   "source": [
    "inc_in_usd = 200000 / 278.25\n",
    "print(f\"Mr. Ahmed's monthly income is {income}pkr: . & when convert in Dollar's {inc_in_usd}$ \")"
   ]
  },
  {
   "cell_type": "markdown",
   "metadata": {
    "id": "Adx4oblF52J4"
   },
   "source": [
    "9) Check if the income in dollars is a float or integer value. if it is float, re-write the code so that income gets converted in integer. print the income in integer type value"
   ]
  },
  {
   "cell_type": "code",
   "execution_count": 26,
   "metadata": {},
   "outputs": [
    {
     "name": "stdout",
     "output_type": "stream",
     "text": [
      "<class 'float'>\n",
      "Mr. Ahmed's monthly income is 200000pkr: . & when convert in Dollar's 718 $ \n",
      "<class 'int'>\n"
     ]
    }
   ],
   "source": [
    "inc_in_usd\n",
    "print(type(inc_in_usd))\n",
    "print(f\"Mr. Ahmed's monthly income is {income}pkr: . & when convert in Dollar's {int(inc_in_usd)} $ \")\n",
    "print(type(int(inc_in_usd)))"
   ]
  },
  {
   "cell_type": "raw",
   "metadata": {
    "id": "NcYepWgZ52J5"
   },
   "source": [
    "10) Print the type of Mr. Ahmed's weight. Convert the weight of Mr. Ahmed in kg so that weight must be a integer value.\n"
   ]
  },
  {
   "cell_type": "code",
   "execution_count": 35,
   "metadata": {},
   "outputs": [
    {
     "name": "stdout",
     "output_type": "stream",
     "text": [
      "Mr. Ahmed's weight in grams 70600, and kilograms 70 kg\n"
     ]
    }
   ],
   "source": [
    "weight_in_kg = weight / 1000\n",
    "print(f\"Mr. Ahmed's weight in grams {weight}, and kilograms {int(weight_in_kg)} kg\")\n"
   ]
  },
  {
   "cell_type": "code",
   "execution_count": 21,
   "metadata": {
    "id": "05FU1XHw52J7"
   },
   "outputs": [],
   "source": [
    "#11) print the year of birth of Mr. Ahmed."
   ]
  },
  {
   "cell_type": "code",
   "execution_count": 42,
   "metadata": {},
   "outputs": [
    {
     "name": "stdout",
     "output_type": "stream",
     "text": [
      "Mr. Ahmed is 1994 year old\n"
     ]
    }
   ],
   "source": [
    "old1 = 2024 - age\n",
    "print(f\"Mr. Ahmed is {old1} year old\")"
   ]
  },
  {
   "cell_type": "markdown",
   "metadata": {
    "id": "eWySSgh552J8"
   },
   "source": [
    "12) Can Rs. 100 be divided equally among 6 students?\n",
    "HINT: % operator (modulo)"
   ]
  },
  {
   "cell_type": "code",
   "execution_count": 43,
   "metadata": {},
   "outputs": [
    {
     "name": "stdout",
     "output_type": "stream",
     "text": [
      "Can Rs. 100 be divided equally among 6 students? No\n"
     ]
    }
   ],
   "source": [
    "amount = 100\n",
    "students = 6\n",
    "remainder = amount % students\n",
    "print(f\"Can Rs. 100 be divided equally among 6 students? {'No' if remainder != 0 else 'Yes'}\")"
   ]
  },
  {
   "cell_type": "code",
   "execution_count": 45,
   "metadata": {},
   "outputs": [
    {
     "data": {
      "text/plain": [
       "4"
      ]
     },
     "execution_count": 45,
     "metadata": {},
     "output_type": "execute_result"
    }
   ],
   "source": [
    "remainder = amount % students\n",
    "remainder"
   ]
  },
  {
   "cell_type": "raw",
   "metadata": {
    "id": "S2nqgbLV52J_"
   },
   "source": [
    "                       Saylani Mass IT \n",
    "             Name   : Nasir Hussain\n",
    "             Course : AI and DS\n",
    "             Days   : Tuesday and Thursday\n",
    "             ID     : AI - 332909\n",
    "             \n",
    "             "
   ]
  },
  {
   "cell_type": "code",
   "execution_count": 53,
   "metadata": {
    "id": "X3ncSwJt52KA"
   },
   "outputs": [
    {
     "name": "stdout",
     "output_type": "stream",
     "text": [
      "Enter your name: Sunny Bharthi\n",
      "Enter your course name: Data_Science and AI\n",
      "Day1 Class: Tuesday\n",
      "Day2 Class: Thursday\n",
      "ID: 335405\n",
      "               \n",
      "                     Saylani Mass IT:\n",
      "                 Name  : Sunny Bharthi \n",
      "                 Course: Data_Science and AI\n",
      "                 Days  : Tuesday: 5.7, Thursday 5.7\n",
      "                 ID    : 335405\n"
     ]
    }
   ],
   "source": [
    "name = input(\"Enter your name: \")\n",
    "course = input(\"Enter your course name: \")\n",
    "day1 = input(\"Day1 Class: \")\n",
    "day2 = input(\"Day2 Class: \")\n",
    "\n",
    "s_id = int(input(\"ID: \"))\n",
    "\n",
    "print(f\"\"\"               \n",
    "                     Saylani Mass IT:\n",
    "                 Name  : {name} \n",
    "                 Course: {course}\n",
    "                 Days  : Tuesday: {time}, Thursday {time1}\n",
    "                 ID    : {s_id}\"\"\")"
   ]
  },
  {
   "cell_type": "code",
   "execution_count": null,
   "metadata": {},
   "outputs": [],
   "source": []
  }
 ],
 "metadata": {
  "colab": {
   "provenance": []
  },
  "kernelspec": {
   "display_name": "Python 3 (ipykernel)",
   "language": "python",
   "name": "python3"
  },
  "language_info": {
   "codemirror_mode": {
    "name": "ipython",
    "version": 3
   },
   "file_extension": ".py",
   "mimetype": "text/x-python",
   "name": "python",
   "nbconvert_exporter": "python",
   "pygments_lexer": "ipython3",
   "version": "3.11.4"
  }
 },
 "nbformat": 4,
 "nbformat_minor": 4
}
