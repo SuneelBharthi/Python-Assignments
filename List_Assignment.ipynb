{
 "cells": [
  {
   "cell_type": "markdown",
   "id": "1e0617a0",
   "metadata": {},
   "source": [
    "# List Assignment \n"
   ]
  },
  {
   "cell_type": "markdown",
   "id": "51b30648",
   "metadata": {},
   "source": [
    "## 1. \n",
    " * Write a program that accepts a list from user and print the alternate element of list. \n"
   ]
  },
  {
   "cell_type": "code",
   "execution_count": 1,
   "id": "565b2d48",
   "metadata": {},
   "outputs": [
    {
     "name": "stdout",
     "output_type": "stream",
     "text": [
      "Enter the elements: a b c d e f\n",
      "the alternate element of list: ['a', 'c', 'e']\n"
     ]
    }
   ],
   "source": [
    "user = input(\"Enter the elements: \")\n",
    "\n",
    "user_lst = user.split()\n",
    "alter_lst = user_lst[::2]\n",
    "\n",
    "print(f\"the alternate element of list: {alter_lst}\")"
   ]
  },
  {
   "cell_type": "markdown",
   "id": "5e37a217",
   "metadata": {},
   "source": [
    "## 2.\n",
    " * Write a program that accepts a list from user. Your program should reverse the content of list and \n",
    "display it. Do not use reverse() method. \n",
    " "
   ]
  },
  {
   "cell_type": "code",
   "execution_count": 2,
   "id": "177a2cbb",
   "metadata": {},
   "outputs": [
    {
     "name": "stdout",
     "output_type": "stream",
     "text": [
      "Enter the elements: Data Science\n",
      "Reversed elements of the list: 'ecneicS ataD'\n"
     ]
    }
   ],
   "source": [
    "user = input(\"Enter the elements: \")\n",
    "\n",
    "alter_lst = user[::-1]\n",
    "\n",
    "print(f\"Reversed elements of the list: '{alter_lst}'\")"
   ]
  },
  {
   "cell_type": "markdown",
   "id": "45f16386",
   "metadata": {},
   "source": [
    "## 3.\n",
    " * Find and display the largest number of a list without using built-in function max(). Your program \n",
    "should ask the user to input values in list from keyboard. \n",
    " "
   ]
  },
  {
   "cell_type": "code",
   "execution_count": 5,
   "id": "4733e079",
   "metadata": {},
   "outputs": [
    {
     "name": "stdout",
     "output_type": "stream",
     "text": [
      "Enter numbers separated by spaces: 12 32 44 23 54 49\n",
      "The largest number in the list is: 54\n"
     ]
    }
   ],
   "source": [
    "user_input = input(\"Enter numbers separated by spaces: \")\n",
    "\n",
    "number_list = [int(num) for num in user_input.split()]\n",
    "\n",
    "largest = number_list[0]\n",
    "\n",
    "for num in number_list:\n",
    "    if num > largest:\n",
    "        largest = num\n",
    "\n",
    "print(\"The largest number in the list is:\", largest)\n"
   ]
  },
  {
   "cell_type": "markdown",
   "id": "2bff508b",
   "metadata": {},
   "source": [
    "## 4.\n",
    " * Write a program that rotates the element of a list so that the element at the first index moves to the \n",
    "second index, the element in the second index moves to the third index, etc., and the element in the last \n",
    "index moves to the first index. \n"
   ]
  },
  {
   "cell_type": "code",
   "execution_count": 6,
   "id": "7fc18c5d",
   "metadata": {},
   "outputs": [
    {
     "name": "stdout",
     "output_type": "stream",
     "text": [
      "Enter elements of the list separated by spaces: a b c d e f\n",
      "The rotated list is: ['f', 'a', 'b', 'c', 'd', 'e']\n"
     ]
    }
   ],
   "source": [
    "user_input = input(\"Enter elements of the list separated by spaces: \")\n",
    "\n",
    "input_list = user_input.split()\n",
    "\n",
    "if input_list:\n",
    "    rotated_list = input_list[-1:] + input_list[:-1]\n",
    "    print(\"The rotated list is:\", rotated_list)\n",
    "else:\n",
    "    print(\"The list is empty. Rotation is not possible.\")\n"
   ]
  },
  {
   "cell_type": "markdown",
   "id": "2c33ff27",
   "metadata": {},
   "source": [
    "## 5.\n",
    " * Write a program that input a string and ask user to delete a given word from a string. \n",
    " "
   ]
  },
  {
   "cell_type": "code",
   "execution_count": 7,
   "id": "c205f674",
   "metadata": {},
   "outputs": [],
   "source": [
    "def delword(txt, wrd):\n",
    "    if wrd in txt:\n",
    "        return txt.replace(wrd,\"\").strip()\n",
    "    else:\n",
    "        return f\"word {wrd}is not found:\""
   ]
  },
  {
   "cell_type": "code",
   "execution_count": 8,
   "id": "9c9e9e28",
   "metadata": {},
   "outputs": [
    {
     "data": {
      "text/plain": [
       "'python is an  progarmming language'"
      ]
     },
     "execution_count": 8,
     "metadata": {},
     "output_type": "execute_result"
    }
   ],
   "source": [
    "delword(\"python is an easy progarmming language\", \"easy\")"
   ]
  },
  {
   "cell_type": "code",
   "execution_count": 9,
   "id": "6f709984",
   "metadata": {},
   "outputs": [
    {
     "name": "stdout",
     "output_type": "stream",
     "text": [
      "Enter a string: python is an easy progarmming languag, easy)\n",
      "Enter the word to delete: easy\n",
      "The string after deleting the word is: python is an progarmming languag, easy)\n"
     ]
    }
   ],
   "source": [
    "user_string = input(\"Enter a string: \")\n",
    "\n",
    "word_to_delete = input(\"Enter the word to delete: \")\n",
    "\n",
    "words = user_string.split()\n",
    "filtered_words = [word for word in words if word != word_to_delete]\n",
    "\n",
    "result_string = \" \".join(filtered_words)\n",
    "\n",
    "print(\"The string after deleting the word is:\", result_string)\n"
   ]
  },
  {
   "cell_type": "markdown",
   "id": "9b4869c7",
   "metadata": {},
   "source": [
    "## 6. \n",
    " * Write a program that reads a string from the user containing a date in the form mm/dd/yyyy. It \n",
    "should print the date in the form March 12, 2021. \n",
    " "
   ]
  },
  {
   "cell_type": "code",
   "execution_count": 10,
   "id": "07a91d91",
   "metadata": {},
   "outputs": [
    {
     "name": "stdout",
     "output_type": "stream",
     "text": [
      "Enter a date in the format mm/dd/yyyy: 09/13/2002\n",
      "Formatted date: September 13, 2002\n"
     ]
    }
   ],
   "source": [
    "#month = {1: \"Jan\",2: \"Fab\",3: \"Mar\",4: \"Apr\",\n",
    "#         5: \"May\",6: \"June\",7: \"July\",8: \"Aug\",\n",
    "#         9: \"Sep\",10: \"Oct\",11: \"Nov\",12: \"Dec\"}\n",
    "#\n",
    "#date = input(\"Enter date for this formate: mm/dd/yyyy: \"). split(\"/\")\n",
    "#\n",
    "#print(f\"{month.get(int(date[0]))} {(date[1])} {(date[2])}\")\n",
    "\n",
    "\n",
    "\n",
    "from datetime import datetime\n",
    "\n",
    "def format_date():\n",
    "    # Prompt the user to enter a date\n",
    "    date_input = input(\"Enter a date in the format mm/dd/yyyy: \")\n",
    "    \n",
    "    try:\n",
    "        # Parse the input date\n",
    "        parsed_date = datetime.strptime(date_input, \"%m/%d/%Y\")\n",
    "        \n",
    "        # Format the date to 'Month dd, yyyy'\n",
    "        formatted_date = parsed_date.strftime(\"%B %d, %Y\")\n",
    "        print(\"Formatted date:\", formatted_date)\n",
    "    except ValueError:\n",
    "        print(\"Invalid date format. Please enter the date in mm/dd/yyyy format.\")\n",
    "\n",
    "# Run the function\n",
    "format_date()"
   ]
  },
  {
   "cell_type": "markdown",
   "id": "b914c352",
   "metadata": {},
   "source": [
    "## 7. \n",
    " * Write a program with a function that accepts a string from keyboard and create a new string after \n",
    "converting character of each word capitalized. For instance, if the sentence is \"stop and smell the roses.\" \n",
    "the output should be \"Stop And Smell The Roses\" "
   ]
  },
  {
   "cell_type": "code",
   "execution_count": 11,
   "id": "54b8a46c",
   "metadata": {},
   "outputs": [
    {
     "name": "stdout",
     "output_type": "stream",
     "text": [
      "Capitalized sentence: Stop And Smell The Roses.\n"
     ]
    }
   ],
   "source": [
    "def capitalize_words():\n",
    "    sentence = \"stop and smell the roses.\"\n",
    "    capitalized_sentence = ' '.join(word.capitalize() for word in sentence.split())\n",
    "    print(\"Capitalized sentence:\", capitalized_sentence)\n",
    "\n",
    "capitalize_words()\n"
   ]
  },
  {
   "cell_type": "markdown",
   "id": "a473f64f",
   "metadata": {},
   "source": [
    "## 8. \n",
    " * Find the sum of each row of matrix of size m x n. For example for the following matrix output will be like this : \n",
    " \n",
    "- [2  11 7  12]\n",
    "- [5  2  9  15]\n",
    "- [8  3  10 40]\n",
    "\n",
    "-  \n",
    "\n",
    "\n",
    "- Sum of row 1 = 32 \n",
    "- Sum of row 2 = 31 \n",
    "- Sum of row 3 = 63 "
   ]
  },
  {
   "cell_type": "code",
   "execution_count": 13,
   "id": "94eae249",
   "metadata": {},
   "outputs": [
    {
     "name": "stdout",
     "output_type": "stream",
     "text": [
      "Sum of row 1 = 32\n",
      "Sum of row 2 = 31\n",
      "Sum of row 3 = 61\n"
     ]
    }
   ],
   "source": [
    "matrix = [\n",
    "    [2, 11, 7, 12],\n",
    "    [5, 2, 9, 15],\n",
    "    [8, 3, 10, 40]\n",
    "]\n",
    "\n",
    "for i, row in enumerate(matrix, start=1):\n",
    "    row_sum = 0\n",
    "    for num in row:\n",
    "        row_sum += num\n",
    "    print(f\"Sum of row {i} = {row_sum}\")"
   ]
  },
  {
   "cell_type": "markdown",
   "id": "2d76eae1",
   "metadata": {},
   "source": [
    "## 9. \n",
    " * Write a program to add two matrices of size n x m. \n"
   ]
  },
  {
   "cell_type": "code",
   "execution_count": 14,
   "id": "9a30d608",
   "metadata": {},
   "outputs": [
    {
     "name": "stdout",
     "output_type": "stream",
     "text": [
      "Enter the elements of the first matrix:\n",
      "Row 1: 1 2 3 4\n",
      "Row 2: 5 6 7 8\n",
      "Row 3: 9 8 7 6\n",
      "\n",
      "Enter the elements of the second matrix:\n",
      "Row 1: 4 3 2 1\n",
      "Row 2: 8 7 6 5\n",
      "Row 3: 6 7 8 9\n",
      "\n",
      "The resulting matrix after addition is:\n",
      "5 5 5\n",
      "13 13 13\n",
      "15 15 15\n"
     ]
    }
   ],
   "source": [
    "n, m = 3, 3 \n",
    "\n",
    "print(\"Enter the elements of the first matrix:\")\n",
    "matrix1 = []\n",
    "for i in range(n):\n",
    "    row = list(map(int, input(f\"Row {i+1}: \").split()))\n",
    "    matrix1.append(row)\n",
    "\n",
    "print(\"\\nEnter the elements of the second matrix:\")\n",
    "matrix2 = []\n",
    "for i in range(n):\n",
    "    row = list(map(int, input(f\"Row {i+1}: \").split()))\n",
    "    matrix2.append(row)\n",
    "\n",
    "result = [[0 for _ in range(m)] for _ in range(n)]\n",
    "\n",
    "for i in range(n):\n",
    "    for j in range(m):\n",
    "        result[i][j] = matrix1[i][j] + matrix2[i][j]\n",
    "\n",
    "print(\"\\nThe resulting matrix after addition is:\")\n",
    "for row in result:\n",
    "    print(\" \".join(map(str, row)))\n"
   ]
  },
  {
   "cell_type": "markdown",
   "id": "3e96871e",
   "metadata": {},
   "source": [
    "## 10. \n",
    " * Write a program to multiply two matrices "
   ]
  },
  {
   "cell_type": "code",
   "execution_count": 15,
   "id": "33a54ee7",
   "metadata": {},
   "outputs": [
    {
     "name": "stdout",
     "output_type": "stream",
     "text": [
      "Enter the elements of the first matrix:\n",
      "Row 1: 2 4 6 8\n",
      "Row 2: 8 6 4 2\n",
      "Row 3: 9 7 5 3\n",
      "\n",
      "Enter the elements of the second matrix:\n",
      "Row 1: 3 5 7 9\n",
      "Row 2: 8 6 4 2\n",
      "Row 3: 1 3 5 7\n",
      "\n",
      "The resulting matrix after addition is:\n",
      "6 20 42\n",
      "64 36 16\n",
      "9 21 25\n"
     ]
    }
   ],
   "source": [
    "n, m = 3, 3 \n",
    "\n",
    "print(\"Enter the elements of the first matrix:\")\n",
    "matrix1 = []\n",
    "for i in range(n):\n",
    "    row = list(map(int, input(f\"Row {i+1}: \").split()))\n",
    "    matrix1.append(row)\n",
    "\n",
    "print(\"\\nEnter the elements of the second matrix:\")\n",
    "matrix2 = []\n",
    "for i in range(n):\n",
    "    row = list(map(int, input(f\"Row {i+1}: \").split()))\n",
    "    matrix2.append(row)\n",
    "\n",
    "result = [[0 for _ in range(m)] for _ in range(n)]\n",
    "\n",
    "for i in range(n):\n",
    "    for j in range(m):\n",
    "        result[i][j] = matrix1[i][j] * matrix2[i][j]\n",
    "\n",
    "print(\"\\nThe resulting matrix after addition is:\")\n",
    "for row in result:\n",
    "    print(\" \".join(map(str, row)))\n"
   ]
  }
 ],
 "metadata": {
  "kernelspec": {
   "display_name": "Python 3 (ipykernel)",
   "language": "python",
   "name": "python3"
  },
  "language_info": {
   "codemirror_mode": {
    "name": "ipython",
    "version": 3
   },
   "file_extension": ".py",
   "mimetype": "text/x-python",
   "name": "python",
   "nbconvert_exporter": "python",
   "pygments_lexer": "ipython3",
   "version": "3.11.4"
  }
 },
 "nbformat": 4,
 "nbformat_minor": 5
}
