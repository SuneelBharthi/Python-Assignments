{
 "cells": [
  {
   "cell_type": "markdown",
   "id": "ba968b4b",
   "metadata": {},
   "source": [
    "# Looping Structures \n"
   ]
  },
  {
   "cell_type": "markdown",
   "id": "a8789868",
   "metadata": {},
   "source": [
    "## 1.\n",
    " * Write a Python program to print the numbers from 1 to 10 using a for loop. "
   ]
  },
  {
   "cell_type": "code",
   "execution_count": 1,
   "id": "c50990e5",
   "metadata": {},
   "outputs": [
    {
     "name": "stdout",
     "output_type": "stream",
     "text": [
      "1\n",
      "2\n",
      "3\n",
      "4\n",
      "5\n",
      "6\n",
      "7\n",
      "8\n",
      "9\n",
      "10\n"
     ]
    }
   ],
   "source": [
    "for i in  range(1,11):\n",
    "    print(i)"
   ]
  },
  {
   "cell_type": "markdown",
   "id": "0e077fdf",
   "metadata": {},
   "source": [
    "## 2.\n",
    " * Write a Python program to print the numbers from 20 to 1 using a while loop.\n"
   ]
  },
  {
   "cell_type": "code",
   "execution_count": 14,
   "id": "7bc5fe7b",
   "metadata": {},
   "outputs": [
    {
     "name": "stdout",
     "output_type": "stream",
     "text": [
      "20 19 18 17 16 15 14 13 12 11 10 9 8 7 6 5 4 3 2 1 "
     ]
    }
   ],
   "source": [
    "for i in range(20,0,-1):\n",
    "    print(i, end=\" \")"
   ]
  },
  {
   "cell_type": "markdown",
   "id": "ff244bbe",
   "metadata": {},
   "source": [
    "## 3.\n",
    " * Write a program to print even numbers from 1 to 10. \n"
   ]
  },
  {
   "cell_type": "code",
   "execution_count": 13,
   "id": "5d1f7ad7",
   "metadata": {},
   "outputs": [
    {
     "name": "stdout",
     "output_type": "stream",
     "text": [
      "2 4 6 8 10 "
     ]
    }
   ],
   "source": [
    "for i in range(2,11,2):\n",
    "    print(i,end=\" \")"
   ]
  },
  {
   "cell_type": "markdown",
   "id": "fc40a00f",
   "metadata": {},
   "source": [
    "## 4.\n",
    " * Write a program that prompts the user to enter a number n and prints all the \n",
    "numbers from 1 to n. "
   ]
  },
  {
   "cell_type": "code",
   "execution_count": 16,
   "id": "e483a95a",
   "metadata": {},
   "outputs": [
    {
     "name": "stdout",
     "output_type": "stream",
     "text": [
      "Ente a number: 10\n",
      "1\n",
      "2\n",
      "3\n",
      "4\n",
      "5\n",
      "6\n",
      "7\n",
      "8\n",
      "9\n",
      "10\n"
     ]
    }
   ],
   "source": [
    "num = int(input(\"Ente a number: \"))\n",
    "for i in range(1, num+1):\n",
    "    print(i)"
   ]
  },
  {
   "cell_type": "markdown",
   "id": "cb2ec864",
   "metadata": {},
   "source": [
    "## 5.\n",
    " * Write a program that prompts the user to enter a number n, and then prints all the \n",
    "odd numbers between 1 and n. \n"
   ]
  },
  {
   "cell_type": "code",
   "execution_count": 18,
   "id": "d8f5bb3d",
   "metadata": {},
   "outputs": [
    {
     "name": "stdout",
     "output_type": "stream",
     "text": [
      "Ente a number: 10\n",
      "1\n",
      "3\n",
      "5\n",
      "7\n",
      "9\n",
      "11\n"
     ]
    }
   ],
   "source": [
    "num = int(input(\"Ente a number: \"))\n",
    "for i in range(1, num+2, 2):\n",
    "    print(i)"
   ]
  },
  {
   "cell_type": "markdown",
   "id": "44538828",
   "metadata": {},
   "source": [
    "## 6.\n",
    " * Write a program that prints 'Happy Birthday!' five times on screen. \n"
   ]
  },
  {
   "cell_type": "code",
   "execution_count": 27,
   "id": "4d226814",
   "metadata": {},
   "outputs": [
    {
     "name": "stdout",
     "output_type": "stream",
     "text": [
      "Happy Birthday!\n",
      "Happy Birthday!\n",
      "Happy Birthday!\n",
      "Happy Birthday!\n",
      "Happy Birthday!\n"
     ]
    }
   ],
   "source": [
    "for i in range(5):\n",
    "    print('Happy Birthday!')"
   ]
  },
  {
   "cell_type": "markdown",
   "id": "83d61f18",
   "metadata": {},
   "source": [
    "## 7. \n",
    " * Write a program that takes a number n as input from the user and generates the first \n",
    "n terms of the series formed by squaring the natural numbers. \n",
    "Sample output \n",
    "Enter a number: 6 \n",
    "The first 6 terms of the series are: \n",
    "1 4 9 16 25 36 \n"
   ]
  },
  {
   "cell_type": "code",
   "execution_count": 29,
   "id": "a44cbb29",
   "metadata": {},
   "outputs": [
    {
     "name": "stdout",
     "output_type": "stream",
     "text": [
      "enter an number: 6\n",
      "1\n",
      "4\n",
      "9\n",
      "16\n",
      "25\n",
      "36\n"
     ]
    }
   ],
   "source": [
    "num = int(input(\"enter an number: \"))\n",
    "\n",
    "for i in range(1, num + 1):\n",
    "    print(i ** 2)"
   ]
  },
  {
   "cell_type": "markdown",
   "id": "1e317a19",
   "metadata": {},
   "source": [
    "\n",
    "## 8.\n",
    " * Write a program that prompts the user to input a number and prints its multiplication \n",
    "table. \n"
   ]
  },
  {
   "cell_type": "code",
   "execution_count": 31,
   "id": "53c5c1b5",
   "metadata": {},
   "outputs": [
    {
     "name": "stdout",
     "output_type": "stream",
     "text": [
      "Enter an number: 13\n",
      "13 * 1 = 13\n",
      "13 * 2 = 26\n",
      "13 * 3 = 39\n",
      "13 * 4 = 52\n",
      "13 * 5 = 65\n",
      "13 * 6 = 78\n",
      "13 * 7 = 91\n",
      "13 * 8 = 104\n",
      "13 * 9 = 117\n",
      "13 * 10 = 130\n"
     ]
    }
   ],
   "source": [
    "num = int(input(\"Enter an number: \"))\n",
    "\n",
    "for i in range(1,11):\n",
    "    print(f\"{num} * {i} = {num * i}\" )"
   ]
  },
  {
   "cell_type": "markdown",
   "id": "7357addb",
   "metadata": {},
   "source": [
    "\n",
    "## 9.\n",
    " * Write a Python program to print the first 8 terms of an arithmetic progression starting \n",
    "with 3 and having a common difference of 4. \n",
    "The program should output the following sequence: \n",
    "3 7 11 15 19 23 27 31 \n"
   ]
  },
  {
   "cell_type": "code",
   "execution_count": 36,
   "id": "affa2f1f",
   "metadata": {},
   "outputs": [
    {
     "name": "stdout",
     "output_type": "stream",
     "text": [
      "3 7 11 15 19 23 27 31 "
     ]
    }
   ],
   "source": [
    "#for i in range(3, 35, 4):\n",
    "#    print(i,end=\" \")\n",
    "\n",
    "\n",
    "start = 3\n",
    "dif = 4\n",
    "terms = 8\n",
    "\n",
    "for i in range(terms):\n",
    "    term = start + i * dif\n",
    "    print(term, end = \" \")"
   ]
  },
  {
   "cell_type": "markdown",
   "id": "fcd539fe",
   "metadata": {},
   "source": [
    "## 10.\n",
    " * Write a Python program to print the first 6 terms of a geometric sequence starting \n",
    "with 2 and having a common ratio of 3. \n",
    "The program should output the following sequence: \n",
    "2 6 18 54 162 486 \n"
   ]
  },
  {
   "cell_type": "code",
   "execution_count": 40,
   "id": "4d2e2cca",
   "metadata": {},
   "outputs": [
    {
     "name": "stdout",
     "output_type": "stream",
     "text": [
      "2 6 18 54 162 486 "
     ]
    }
   ],
   "source": [
    "start = 2\n",
    "ratio = 3\n",
    "terms = 6\n",
    "\n",
    "for i in range(terms):\n",
    "    term = start * (ratio ** i)\n",
    "    print(term, end = \" \")"
   ]
  },
  {
   "cell_type": "markdown",
   "id": "a6ab346f",
   "metadata": {},
   "source": [
    "## 11. \n",
    " * Write a program that asks the user for a positive integer value. The program should \n",
    "calculate the sum of all the integers from 1 up to the number entered. For example, if \n",
    "the user enters 20, the loop will find the sum of 1, 2, 3, 4, ... 20. \n"
   ]
  },
  {
   "cell_type": "code",
   "execution_count": 41,
   "id": "dc89da6b",
   "metadata": {},
   "outputs": [
    {
     "name": "stdout",
     "output_type": "stream",
     "text": [
      "Enter a positive integer: 10\n",
      "The sum of all integers from 1 to 10 is: 55\n"
     ]
    }
   ],
   "source": [
    "n = int(input(\"Enter a positive integer: \"))\n",
    "\n",
    "total_sum = 0\n",
    "\n",
    "for i in range(1, n + 1):\n",
    "    total_sum += i\n",
    "\n",
    "print(f\"The sum of all integers from 1 to {n} is: {total_sum}\")\n"
   ]
  },
  {
   "cell_type": "markdown",
   "id": "27748700",
   "metadata": {},
   "source": [
    "## 12. \n",
    " * write a program that takes a positive integer N as input and calculates the sum of \n",
    "the reciprocals of all numbers from 1 up to N. The program should display the final sum. \n",
    "Output of the program should be like: \n",
    "Enter a positive integer: 5 \n",
    "The sum of reciprocals from 1 to 5 is: 2.28 "
   ]
  },
  {
   "cell_type": "code",
   "execution_count": 43,
   "id": "f853c227",
   "metadata": {},
   "outputs": [
    {
     "name": "stdout",
     "output_type": "stream",
     "text": [
      "Enter a positive integer: 5\n",
      "The sum of reciprocals from 1 to 5 is: 2.28\n"
     ]
    }
   ],
   "source": [
    "N = int(input(\"Enter a positive integer: \"))\n",
    "\n",
    "reciprocal_sum = 0\n",
    "\n",
    "for i in range(1, N + 1):\n",
    "    reciprocal_sum += 1 / i\n",
    "\n",
    "print(f\"The sum of reciprocals from 1 to {N} is: {reciprocal_sum:.2f}\")\n"
   ]
  },
  {
   "cell_type": "markdown",
   "id": "8a179cae",
   "metadata": {},
   "source": [
    "## 13. \n",
    " * Write a program that prompts the user to enter a number and repeats this process 5 \n",
    "times. The program should accumulate the numbers entered and then display the final \n",
    "running total. \n",
    "Sample Output: \n",
    "- Enter a number: 10 \n",
    "- Enter a number: 15 \n",
    "- Enter a number: 35 \n",
    "- Enter a number: 40 \n",
    "- Enter a number: 50 \n",
    "- The final running total is: 150 \n"
   ]
  },
  {
   "cell_type": "code",
   "execution_count": 45,
   "id": "6c16cd3b",
   "metadata": {},
   "outputs": [
    {
     "name": "stdout",
     "output_type": "stream",
     "text": [
      "Enter a number: 10\n",
      "Enter a number: 15\n",
      "Enter a number: 20\n",
      "Enter a number: 55\n",
      "Enter a number: 50\n",
      "The final running total is: 150\n"
     ]
    }
   ],
   "source": [
    "running_total = 0\n",
    "\n",
    "for _ in range(5):\n",
    "    number = int(input(\"Enter a number: \"))\n",
    "    running_total += number\n",
    "\n",
    "print(f\"The final running total is: {running_total}\")\n"
   ]
  },
  {
   "cell_type": "markdown",
   "id": "5c837b32",
   "metadata": {},
   "source": [
    "##### 14.\n",
    " * Write a program that prompts the user to enter a positive integer and calculates its \n",
    "factorial. The factorial of a positive integer 'n' is denoted as 'n!' and is calculated by \n",
    "multiplying all the integers from 1 to 'n' together. For example, the factorial of 5 \n",
    "(denoted as 5!) is calculated as 1 x 2 x 3 x 4 x 5. \n",
    "The program should display the factorial value if the input is a positive number, or \n",
    "display a message stating that the factorial does not exist for negative numbers. \n",
    "Additionally, for an input of zero, the program should output that the factorial of 0 is 1. \n"
   ]
  },
  {
   "cell_type": "code",
   "execution_count": 46,
   "id": "6e342e5b",
   "metadata": {},
   "outputs": [
    {
     "name": "stdout",
     "output_type": "stream",
     "text": [
      "Enter a positive integer: 5\n",
      "The factorial of 5 is: 120\n"
     ]
    }
   ],
   "source": [
    "n = int(input(\"Enter a positive integer: \"))\n",
    "\n",
    "if n < 0:\n",
    "    print(\"Factorial does not exist for negative numbers.\")\n",
    "elif n == 0:\n",
    "    print(\"The factorial of 0 is 1.\")\n",
    "else:\n",
    "    factorial = 1\n",
    "    for i in range(1, n + 1):\n",
    "        factorial *= i\n",
    "    print(f\"The factorial of {n} is: {factorial}\")\n"
   ]
  },
  {
   "cell_type": "markdown",
   "id": "05bcbb6f",
   "metadata": {},
   "source": [
    "## 15.\n",
    " * Write a Python program that prompts the user to enter a base number and an \n",
    "exponent, and then calculates the power of the base to the exponent. The program \n",
    "should not use the exponentiation operator (**) or the math.pow() function. The \n",
    "program should handle both positive and negative exponents. "
   ]
  },
  {
   "cell_type": "code",
   "execution_count": 47,
   "id": "c1fdcca9",
   "metadata": {},
   "outputs": [
    {
     "name": "stdout",
     "output_type": "stream",
     "text": [
      "Enter the base number: 2\n",
      "Enter the exponent: 5\n",
      "2 raised to the power of 5 is: 32\n"
     ]
    }
   ],
   "source": [
    "base = int(input(\"Enter the base number: \"))\n",
    "exponent = int(input(\"Enter the exponent: \"))\n",
    "\n",
    "if exponent >= 0:\n",
    "    result = 1\n",
    "    for _ in range(exponent):\n",
    "        result *= base\n",
    "    print(f\"{base} raised to the power of {exponent} is: {result}\")\n",
    "\n",
    "else:\n",
    "    result = 1\n",
    "    for _ in range(abs(exponent)):\n",
    "        result *= base\n",
    "    result = 1 / result\n",
    "    print(f\"{base} raised to the power of {exponent} is: {result}\")\n"
   ]
  },
  {
   "cell_type": "code",
   "execution_count": null,
   "id": "097862ec",
   "metadata": {},
   "outputs": [],
   "source": []
  }
 ],
 "metadata": {
  "kernelspec": {
   "display_name": "Python 3 (ipykernel)",
   "language": "python",
   "name": "python3"
  },
  "language_info": {
   "codemirror_mode": {
    "name": "ipython",
    "version": 3
   },
   "file_extension": ".py",
   "mimetype": "text/x-python",
   "name": "python",
   "nbconvert_exporter": "python",
   "pygments_lexer": "ipython3",
   "version": "3.11.4"
  }
 },
 "nbformat": 4,
 "nbformat_minor": 5
}
