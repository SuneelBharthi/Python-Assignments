{
 "cells": [
  {
   "cell_type": "markdown",
   "id": "05dbea4c",
   "metadata": {},
   "source": [
    "# A-\tDiscounts and Pricing"
   ]
  },
  {
   "cell_type": "markdown",
   "id": "c6d62083",
   "metadata": {},
   "source": [
    "## 1.\tCheck Discount Eligibility\n",
    "* Write a program to check if a customer is eligible for a discount. If the total purchase is more than $100, apply a 10% discount and display the final price. Otherwise, display the total price as it is.\n"
   ]
  },
  {
   "cell_type": "code",
   "execution_count": 49,
   "id": "25361fdd",
   "metadata": {},
   "outputs": [
    {
     "name": "stdout",
     "output_type": "stream",
     "text": [
      "Enter price: 120\n",
      "Enter price: 110\n",
      "Enter price: 60\n",
      "Enter price: 70\n",
      "Enter price: 80\n",
      "Your total bill is 440$,\n",
      "          _____________________________  \n",
      "          Applied discount: 44.0.\n",
      "          _____________________________\n",
      "          Payable : 396.0\n",
      "    \n"
     ]
    }
   ],
   "source": [
    "item1 = int(input(\"Enter price: \"))\n",
    "item2 = int(input(\"Enter price: \"))\n",
    "item3 = int(input(\"Enter price: \"))\n",
    "item4 = int(input(\"Enter price: \"))\n",
    "item5 = int(input(\"Enter price: \"))\n",
    "\n",
    "total_b = item1+item2+item3+item4+item5\n",
    "discount = 0\n",
    "\n",
    "if total_b >  100:\n",
    "    discount = total_b * 0.10\n",
    "else:\n",
    "    discount = total_b * 0\n",
    "    \n",
    "print(f\"\"\"Your total bill is {total_b}$,\n",
    "          _____________________________  \n",
    "          Applied discount: {discount}.\n",
    "          _____________________________\n",
    "          Payable : {total_b - discount}\n",
    "    \"\"\")"
   ]
  },
  {
   "cell_type": "markdown",
   "id": "cd9abbdf",
   "metadata": {},
   "source": [
    "## 2.\tCalculate Bulk Discount\n",
    "\n",
    "* If a customer buys more than 5 items, apply a 15% discount on the total price. Otherwise, no discount is applied. Display the total price.\n"
   ]
  },
  {
   "cell_type": "code",
   "execution_count": 34,
   "id": "5412c17e",
   "metadata": {},
   "outputs": [
    {
     "name": "stdout",
     "output_type": "stream",
     "text": [
      "Enter price: 10\n",
      "Enter price: 20\n",
      "Enter price: 34\n",
      "Enter price: 50\n",
      "Enter price: 4\n",
      "enter price: 33\n",
      "How many items you are purchased:6\n",
      "\n",
      "          Your total bill is 151$,\n",
      "          _____________________________  \n",
      "          Applied discount: 22.65.\n",
      "          _____________________________\n",
      "          Payable : 128.35\n",
      "    \n"
     ]
    }
   ],
   "source": [
    "item1 = int(input(\"Enter price: \"))\n",
    "item2 = int(input(\"Enter price: \"))\n",
    "item3 = int(input(\"Enter price: \"))\n",
    "item4 = int(input(\"Enter price: \"))\n",
    "item5 = int(input(\"Enter price: \"))\n",
    "item6 = int(input(\"enter price: \"))\n",
    "\n",
    "total_b = item1+item2+item3+item4+item5+item6\n",
    "discount = 0\n",
    "items = int(input(\"How many items you are purchased:\"))\n",
    "\n",
    "if items > 5:\n",
    "    discount = total_b * 0.15\n",
    "else:\n",
    "    discount = total_b * 0\n",
    "\n",
    "print(f\"\"\"\n",
    "          Your total bill is {total_b}$,\n",
    "          _____________________________  \n",
    "          Applied discount: {discount}.\n",
    "          _____________________________\n",
    "          Payable : {total_b - discount} $\n",
    "    \"\"\")"
   ]
  },
  {
   "cell_type": "markdown",
   "id": "27224b60",
   "metadata": {},
   "source": [
    "## 3.\tMembership Discount\n",
    " * Check if the customer is a member (is_member = True). Members get a 20% discount; non-members get a 5% discount. Calculate and print the discounted price.\n"
   ]
  },
  {
   "cell_type": "code",
   "execution_count": 35,
   "id": "1b6bf01b",
   "metadata": {},
   "outputs": [
    {
     "name": "stdout",
     "output_type": "stream",
     "text": [
      "Enter price: 30\n",
      "Enter price: 40\n",
      "Enter price: 50\n",
      "Enter price: 20\n",
      "Enter price: 60\n",
      "Are you member over costumer service:yes\n",
      "\n",
      "          Your total bill is 200$,\n",
      "          _____________________________  \n",
      "          Applied discount: 40.0.\n",
      "          _____________________________\n",
      "          Payable : 160.0 $\n",
      "    \n"
     ]
    }
   ],
   "source": [
    "item1 = int(input(\"Enter price: \"))\n",
    "item2 = int(input(\"Enter price: \"))\n",
    "item3 = int(input(\"Enter price: \"))\n",
    "item4 = int(input(\"Enter price: \"))\n",
    "item5 = int(input(\"Enter price: \"))\n",
    "\n",
    "total_b = item1+item2+item3+item4+item5\n",
    "discount = 0\n",
    "mem = input(\"Are you member over costumer service:\")\n",
    "\n",
    "if mem == \"yes\":\n",
    "    discount = total_b * 0.20\n",
    "else:\n",
    "    discount = total_b * .05\n",
    "\n",
    "print(f\"\"\"\n",
    "          Your total bill is {total_b}$,\n",
    "          _____________________________  \n",
    "          Applied discount: {discount}.\n",
    "          _____________________________\n",
    "          Payable : {total_b - discount} $\n",
    "    \"\"\")"
   ]
  },
  {
   "cell_type": "code",
   "execution_count": 117,
   "id": "41e0a5fd",
   "metadata": {},
   "outputs": [
    {
     "name": "stdout",
     "output_type": "stream",
     "text": [
      "Enter price: 230\n",
      "Enter price: 23\n",
      "Enter price: 250\n",
      "Enter price: 130\n",
      "Enter price: 340\n",
      "Tell me your name:Sana\n",
      "\n",
      "          Your total bill is 973$,\n",
      "          _____________________________  \n",
      "          Applied discount: 194.60000000000002.\n",
      "          _____________________________\n",
      "          Payable : 778.4 $\n",
      "    \n"
     ]
    }
   ],
   "source": [
    "item1 = int(input(\"Enter price: \"))\n",
    "item2 = int(input(\"Enter price: \"))\n",
    "item3 = int(input(\"Enter price: \"))\n",
    "item4 = int(input(\"Enter price: \"))\n",
    "item5 = int(input(\"Enter price: \"))\n",
    "\n",
    "total_b = item1+item2+item3+item4+item5\n",
    "discount = 0\n",
    "costumer = ['Ahmed', 'Sana', 'Rehan', 'Kamran']\n",
    "mem = input(\"Tell me your name:\")\n",
    "if mem in costumer:\n",
    "    discount = total_b * .20  \n",
    "else:\n",
    "    discount = total_b * .05\n",
    "\n",
    "print(f\"\"\"\n",
    "          Your total bill is {total_b}$,\n",
    "          _____________________________  \n",
    "          Applied discount: {discount}.\n",
    "          _____________________________\n",
    "          Payable : {total_b - discount} $\n",
    "    \"\"\")"
   ]
  },
  {
   "cell_type": "markdown",
   "id": "c920fb4a",
   "metadata": {},
   "source": [
    "## 4.\tSeasonal Sale\n",
    "* If today is a holiday (is_holiday = True), apply a 25% discount; otherwise, apply a 10% discount. Calculate the price after discount.\n"
   ]
  },
  {
   "cell_type": "code",
   "execution_count": 31,
   "id": "9b4bb2f4",
   "metadata": {},
   "outputs": [
    {
     "name": "stdout",
     "output_type": "stream",
     "text": [
      "Enter price: 250\n",
      "Enter price: 100\n",
      "Enter price: 320\n",
      "Enter price: 450\n",
      "Enter price: 550\n",
      "Today is holiday. Yes  /  No :Yes\n",
      "\n",
      "        your Total bill is 1670.\n",
      "        __________________________\n",
      "        applied discount: 417.5%.\n",
      "        __________________________\n",
      "        Payable : 1252.5\n"
     ]
    }
   ],
   "source": [
    "item1 = int(input(\"Enter price: \"))\n",
    "item2 = int(input(\"Enter price: \"))\n",
    "item3 = int(input(\"Enter price: \"))\n",
    "item4 = int(input(\"Enter price: \"))\n",
    "item5 = int(input(\"Enter price: \"))\n",
    "\n",
    "total_b = item1+item2+item3+item4+item5\n",
    "discount = 0\n",
    "holiday = input(\"Today is holiday. Yes  /  No :\")\n",
    "if holiday == \"Yes\":\n",
    "    discount = total_b * .25 \n",
    "else:\n",
    "    discount = total_b * .10\n",
    "\n",
    "print(f\"\"\"\n",
    "        your Total bill is {total_b}.\n",
    "        __________________________\n",
    "        applied discount: {discount}%.\n",
    "        __________________________\n",
    "        Payable : {total_b - discount}\"\"\")"
   ]
  },
  {
   "cell_type": "markdown",
   "id": "4b6d8894",
   "metadata": {},
   "source": [
    "## 5.\tBuy-One-Get-One-Free\n",
    " * If a customer buys an even number of items, they get half of them for free. Otherwise, they pay for all. Calculate the number of items the customer has to pay for.\n"
   ]
  },
  {
   "cell_type": "code",
   "execution_count": 42,
   "id": "d0837f9c",
   "metadata": {},
   "outputs": [
    {
     "name": "stdout",
     "output_type": "stream",
     "text": [
      "Enter price: 120\n",
      "Enter price: 0\n",
      "Enter price: 239\n",
      "Enter price: 23\n",
      "Enter price: 21\n",
      "Enter price: 3\n",
      "How many items you have puchased.? :5\n",
      "\n",
      "        your Total bill is 406.\n",
      "        __________________________\n",
      "        applied discount: 0%.\n",
      "        __________________________\n",
      "        Payable : 406\n"
     ]
    }
   ],
   "source": [
    "item1 = int(input(\"Enter price: \"))\n",
    "item2 = int(input(\"Enter price: \"))\n",
    "item3 = int(input(\"Enter price: \"))\n",
    "item4 = int(input(\"Enter price: \"))\n",
    "item5 = int(input(\"Enter price: \"))\n",
    "item6 = int(input(\"Enter price: \"))\n",
    "\n",
    "\n",
    "total_b = item1+item2+item3+item4+item5+item6\n",
    "discount = 0\n",
    "even = int(input(\"How many items you have puchased.? :\"))\n",
    "if even % 2==0:\n",
    "    discount = total_b // 2 \n",
    "else:\n",
    "    discount = total_b * 0\n",
    "\n",
    "print(f\"\"\"\n",
    "        your Total bill is {total_b}.\n",
    "        __________________________\n",
    "        applied discount: {discount}%.\n",
    "        __________________________\n",
    "        Payable : {total_b - discount}\"\"\")"
   ]
  },
  {
   "cell_type": "markdown",
   "id": "9a8afae9",
   "metadata": {},
   "source": [
    "# B-\tTax Calculations\n"
   ]
  },
  {
   "cell_type": "markdown",
   "id": "5bfad465",
   "metadata": {},
   "source": [
    "## 6.\tSales Tax\n",
    " * If the price of an item is greater than $500, apply a luxury tax of 15%. Otherwise, apply a standard tax of 8%. Display the total price after tax.\n"
   ]
  },
  {
   "cell_type": "code",
   "execution_count": 48,
   "id": "3e606a97",
   "metadata": {},
   "outputs": [
    {
     "name": "stdout",
     "output_type": "stream",
     "text": [
      "Enter price: 120\n",
      "Enter price: 30\n",
      "Enter price: 70\n",
      "Enter price: 6\n",
      "Enter price: 20\n",
      "Enter price: 12\n",
      "\n",
      "        your Total bill is 258$ .\n",
      "        __________________________\n",
      "        applied luxury Tax: 0%.\n",
      "        applied standard tax: 20.64%\n",
      "        __________________________\n",
      "        Payable : 295.52 $\n"
     ]
    }
   ],
   "source": [
    "item1 = int(input(\"Enter price: \"))\n",
    "item2 = int(input(\"Enter price: \"))\n",
    "item3 = int(input(\"Enter price: \"))\n",
    "item4 = int(input(\"Enter price: \"))\n",
    "item5 = int(input(\"Enter price: \"))\n",
    "item6 = int(input(\"Enter price: \"))\n",
    "\n",
    "\n",
    "total_b = item1+item2+item3+item4+item5+item6\n",
    "tax1 = 0\n",
    "tax2 = 0\n",
    "if total_b >= 500:\n",
    "    tax1 = total_b * .15 \n",
    "else:\n",
    "    tax2 = total_b * .08\n",
    "\n",
    "print(f\"\"\"\n",
    "        your Total bill is {total_b}$ .\n",
    "        __________________________\n",
    "        applied luxury Tax: {tax1}%.\n",
    "        applied standard tax: {tax2}%\n",
    "        __________________________\n",
    "        Payable : {total_b + tax} $\"\"\")"
   ]
  },
  {
   "cell_type": "markdown",
   "id": "34e327fc",
   "metadata": {},
   "source": [
    "## 7.\tIncome Tax\n",
    " * If a person's annual income is above $50,000, they pay 20% tax. Otherwise, they pay 10%. Calculate and display the tax amount.\n"
   ]
  },
  {
   "cell_type": "code",
   "execution_count": 52,
   "id": "3222df04",
   "metadata": {},
   "outputs": [
    {
     "name": "stdout",
     "output_type": "stream",
     "text": [
      "Your monthly income: 55000\n",
      "\n",
      "        your Monthly income is 55000.0 $ .\n",
      "        __________________________\n",
      "        applied luxury Tax: 0%.\n",
      "        applied standard tax: 20.64%\n",
      "        __________________________\n",
      "        Final income: 44000.0 $\n"
     ]
    }
   ],
   "source": [
    "person = float(input(\"Your monthly income: \"))\n",
    "tax = 0\n",
    "\n",
    "if person > 50000:\n",
    "    tax = person * .20\n",
    "else:\n",
    "    tax = person * .10\n",
    "print(f\"\"\"\n",
    "        your Monthly income is {person} $ .\n",
    "        __________________________\n",
    "        applied luxury Tax: {tax1}%.\n",
    "        applied standard tax: {tax2}%\n",
    "        __________________________\n",
    "        Final income: {person - tax} $\"\"\")"
   ]
  },
  {
   "cell_type": "markdown",
   "id": "752ef79b",
   "metadata": {},
   "source": [
    "## 8.\tTax Bracket\n",
    "* Write a program to categorize a person into tax brackets:\n",
    "  \n",
    "* Income < $30,000: \"Low Tax\" \n",
    "* $30,000 ≤ Income < $100,000: \"Medium Tax\"\n",
    "* Income ≥ $100,000: \"High Tax\"\n"
   ]
  },
  {
   "cell_type": "code",
   "execution_count": 54,
   "id": "d384cf21",
   "metadata": {},
   "outputs": [
    {
     "name": "stdout",
     "output_type": "stream",
     "text": [
      "Enter your income: 75000\n",
      "The tax bracket for an income of 75000 is: Medium_tax\n"
     ]
    }
   ],
   "source": [
    "income = int(input(\"Enter your income: \"))\n",
    "\n",
    "if income < 30000:\n",
    "    tax_brackets = \"Low_tax\"\n",
    "elif 30000 < income < 100000:\n",
    "    tax_brackets = \"Medium_tax\"\n",
    "else:  # income > 100000\n",
    "    tax_brackets = \"High_tax\"\n",
    "    \n",
    "print(f\"The tax bracket for an income of {income} is: {tax_brackets}\")"
   ]
  },
  {
   "cell_type": "markdown",
   "id": "1e4c7c10",
   "metadata": {},
   "source": [
    "## 9.\tVAT Calculation\n",
    " * If the item is marked as essential (is_essential = True), apply a VAT of 5%. Otherwise, apply a VAT of 12%. Display the final price.\n"
   ]
  },
  {
   "cell_type": "code",
   "execution_count": 56,
   "id": "1fd96b8c",
   "metadata": {},
   "outputs": [
    {
     "name": "stdout",
     "output_type": "stream",
     "text": [
      "Enter the price of item: 350\n",
      "Is the item essential: (Yes / No)..no\n",
      "The final price of the item after applying VAT is: 392.00\n"
     ]
    }
   ],
   "source": [
    "price = int(input(\"Enter the price of item: \"))\n",
    "essential = input(\"Is the item essential: (Yes / No)..\").strip().lower() == \"yes\"\n",
    "\n",
    "if essential:\n",
    "    vat = price * 0.05\n",
    "else:\n",
    "    vat = price * 0.12\n",
    "    \n",
    "vat_rate = price * vat\n",
    "f_price = price + vat\n",
    "\n",
    "print(f\"The final price of the item after applying VAT is: {f_price:.2f}\")"
   ]
  },
  {
   "cell_type": "markdown",
   "id": "047ff4b9",
   "metadata": {},
   "source": [
    "## 10.\tTax-Free Day\n",
    " * If today is a tax-free day (tax_free = True), display the original price. Otherwise, add a 7% tax.\n"
   ]
  },
  {
   "cell_type": "code",
   "execution_count": 63,
   "id": "04c10e93",
   "metadata": {},
   "outputs": [
    {
     "name": "stdout",
     "output_type": "stream",
     "text": [
      "Enter amount:23980\n",
      "Today is tax_free day: (Yes / No)yes\n",
      " The total price. 0.0\n",
      "\n",
      "        your price is 23980 $ .\n",
      "        __________________________\n",
      "        applied Tax: 0.0%.\n",
      "        __________________________\n",
      "        Final price: 23980.0 $\n"
     ]
    }
   ],
   "source": [
    "price = int(input(\"Enter amount:\"))\n",
    "tax_free = input(\"Today is tax_free day: (Yes / No)\")\n",
    "\n",
    "if tax_free == \"yes\":\n",
    "    no_tax = price * 0.0\n",
    "else:\n",
    "    no_tax = price * 0.07\n",
    "\n",
    "\n",
    "print(f\"\"\"\n",
    "        your price is {price} $ .\n",
    "        __________________________\n",
    "        applied Tax: {no_tax}%.\n",
    "        __________________________\n",
    "        Final price: {price + no_tax} $\"\"\")"
   ]
  },
  {
   "cell_type": "markdown",
   "id": "235cbb0e",
   "metadata": {},
   "source": [
    "# C- Shopping and Billing"
   ]
  },
  {
   "cell_type": "markdown",
   "id": "36e388a7",
   "metadata": {},
   "source": [
    "## 11.\tFree Shipping\n",
    " * If the total purchase amount is more than $50, offer free shipping; otherwise, charge $5 for shipping. Display the total amount including shipping.\n"
   ]
  },
  {
   "cell_type": "code",
   "execution_count": 73,
   "id": "23213fa5",
   "metadata": {},
   "outputs": [
    {
     "name": "stdout",
     "output_type": "stream",
     "text": [
      "Enter total amount: 35\n",
      "\n",
      "        your price is 35 $ .\n",
      "        __________________________\n",
      "        includes shipping charges: 5.\n",
      "        __________________________\n",
      "        Final price : 40 $\n"
     ]
    }
   ],
   "source": [
    "price = int(input(\"Enter total amount: \"))\n",
    "\n",
    "if price >= 50:\n",
    "    charge = 0\n",
    "else:\n",
    "    charge = 5\n",
    "\n",
    "print(f\"\"\"\n",
    "        your price is {price} $ .\n",
    "        __________________________\n",
    "        includes shipping charges: {charge}.\n",
    "        __________________________\n",
    "        Final price : {price + charge} $\"\"\")"
   ]
  },
  {
   "cell_type": "markdown",
   "id": "c8cd856e",
   "metadata": {},
   "source": [
    "## 12.\tDiscount Code\n",
    " * If a customer enters the correct discount code (DISCOUNT10), apply a 10% discount. Otherwise, charge the full amount.\n"
   ]
  },
  {
   "cell_type": "code",
   "execution_count": 82,
   "id": "18128775",
   "metadata": {},
   "outputs": [
    {
     "name": "stdout",
     "output_type": "stream",
     "text": [
      "Enter purches amount: 2300\n",
      "If you have any discount code so please enter: 121\n",
      "\n",
      "        your purchase is 2300.0 $ .\n",
      "        __________________________\n",
      "        includes discount: 230.0.\n",
      "        __________________________\n",
      "        Final price : 2070.0 $\n"
     ]
    }
   ],
   "source": [
    "purches = float(input(\"Enter purches amount: \"))\n",
    "disc = int(input(\"If you have any discount code so please enter: \"))\n",
    "dics_rate = 0\n",
    "\n",
    "if disc == 121:\n",
    "    dics_rate = purches * .10\n",
    "else:\n",
    "    dics_rate = purches * 0\n",
    "    \n",
    "print(f\"\"\"\n",
    "        your purchase is {purches} $ .\n",
    "        __________________________\n",
    "        includes discount: {dics_rate}.\n",
    "        __________________________\n",
    "        Final price : {purches - dics_rate} $\"\"\")"
   ]
  },
  {
   "cell_type": "markdown",
   "id": "df901588",
   "metadata": {},
   "source": [
    "## 13.\tTiered Discounts\n",
    "Apply discounts based on the total price:\n",
    " *\t$0–$50: No discount.\n",
    " *\t$50–$100: 10% discount.\n",
    " *\tOver $100: 20% discount.\n"
   ]
  },
  {
   "cell_type": "code",
   "execution_count": 87,
   "id": "5845328e",
   "metadata": {},
   "outputs": [
    {
     "name": "stdout",
     "output_type": "stream",
     "text": [
      "Enter your amount: 51\n",
      "\n",
      "        your purchase is 51 $ .\n",
      "        __________________________\n",
      "        includes discount: 5.1000000000000005.\n",
      "        __________________________\n",
      "        Final price : 45.9 $\n",
      "        \n"
     ]
    }
   ],
   "source": [
    "amount = int(input(\"Enter your amount: \"))\n",
    "disc = 0 \n",
    "if amount <= 50:\n",
    "    disc = 0\n",
    "elif amount <= 100:\n",
    "    disc = amount * .10\n",
    "else:\n",
    "    disc = amount * .20\n",
    "    \n",
    "print(f\"\"\"\n",
    "        your purchase is {amount} $ .\n",
    "        __________________________\n",
    "        includes discount: {disc}.\n",
    "        __________________________\n",
    "        Final price : {amount - disc} $\n",
    "        \"\"\")"
   ]
  },
  {
   "cell_type": "markdown",
   "id": "8c1e73b3",
   "metadata": {},
   "source": [
    "## 14.\tMinimum Purchase Requirement\n",
    " * If the total amount is less than $20, display a message: \"Minimum purchase of $20 is required.\" Otherwise, display the total amount.\n"
   ]
  },
  {
   "cell_type": "code",
   "execution_count": 93,
   "id": "3b64bdb1",
   "metadata": {},
   "outputs": [
    {
     "name": "stdout",
     "output_type": "stream",
     "text": [
      "Enter amount:25\n",
      "The total amount is: 25.0 $:\n"
     ]
    }
   ],
   "source": [
    "t_amount = float(input(\"Enter amount:\"))\n",
    "if t_amount < 20:\n",
    "    print(\"Minimum purchase of $20 is required.\")\n",
    "else:\n",
    "    print(f\"The total amount is: {t_amount} $:\")"
   ]
  },
  {
   "cell_type": "markdown",
   "id": "acfa2335",
   "metadata": {},
   "source": [
    "\n",
    "## 15.\tLoyalty Points\n",
    " * If a customer is a loyal member (is_loyal = True), they earn double loyalty points for their purchase. Otherwise, they earn standard points.\n"
   ]
  },
  {
   "cell_type": "code",
   "execution_count": 94,
   "id": "b9660803",
   "metadata": {},
   "outputs": [
    {
     "name": "stdout",
     "output_type": "stream",
     "text": [
      "Enter the total purchase amount: 250\n",
      "Is the customer a loyal member? (yes/no): yes\n",
      "The customer earns 500 loyalty points.\n"
     ]
    }
   ],
   "source": [
    "purchase_amount = float(input(\"Enter the total purchase amount: \"))\n",
    "is_loyal = input(\"Is the customer a loyal member? (yes/no): \").strip().lower() == \"yes\"\n",
    "\n",
    "if is_loyal:\n",
    "    loyalty_points = purchase_amount * 2\n",
    "else:\n",
    "    loyalty_points = purchase_amount  \n",
    "print(f\"The customer earns {loyalty_points:.0f} loyalty points.\")\n"
   ]
  },
  {
   "cell_type": "markdown",
   "id": "f384ae99",
   "metadata": {},
   "source": [
    "# D-Travel and Tickets"
   ]
  },
  {
   "cell_type": "markdown",
   "id": "09ca4078",
   "metadata": {},
   "source": [
    "## 16.\tTravel Discount\n",
    " * If a person is traveling more than 500 miles, offer a 20% discount on ticket price. Otherwise, charge the full amount.\n"
   ]
  },
  {
   "cell_type": "code",
   "execution_count": 96,
   "id": "b1fd2f24",
   "metadata": {},
   "outputs": [
    {
     "name": "stdout",
     "output_type": "stream",
     "text": [
      "Enter the ticket price: 1350\n",
      "Enter the travel distance in miles: 526\n",
      "A 20% discount of $270.00 has been applied.\n",
      "The total ticket price is: $1080.00\n"
     ]
    }
   ],
   "source": [
    "ticket_price = float(input(\"Enter the ticket price: \"))\n",
    "distance = float(input(\"Enter the travel distance in miles: \"))\n",
    "\n",
    "if distance > 500:\n",
    "    discount_rate = 0.20  # 20% discount\n",
    "    discount = ticket_price * discount_rate\n",
    "    final_price = ticket_price - discount\n",
    "    print(f\"A 20% discount of ${discount:.2f} has been applied.\")\n",
    "else:\n",
    "    final_price = ticket_price  # No discount\n",
    "    print(\"No discount applied.\")\n",
    "\n",
    "print(f\"The total ticket price is: ${final_price:.2f}\")\n"
   ]
  },
  {
   "cell_type": "markdown",
   "id": "899ea503",
   "metadata": {},
   "source": [
    "## 17.\tChild or Senior Discount\n",
    " * If a passenger is under 12 or over 60 years old, apply a 15% discount on the ticket price. Otherwise, charge the full price.\n"
   ]
  },
  {
   "cell_type": "code",
   "execution_count": 98,
   "id": "7bf8d5c4",
   "metadata": {},
   "outputs": [
    {
     "name": "stdout",
     "output_type": "stream",
     "text": [
      "Enter the ticket price: 1350\n",
      "Enter the passenger's age: 21\n",
      "No discount applied.\n",
      "The total ticket price is: $1350.00\n"
     ]
    }
   ],
   "source": [
    "ticket_price = float(input(\"Enter the ticket price: \"))\n",
    "age = int(input(\"Enter the passenger's age: \"))\n",
    "\n",
    "if age < 12 or age > 60:\n",
    "    discount_rate = 0.15  # 15% discount\n",
    "    discount = ticket_price * discount_rate\n",
    "    final_price = ticket_price - discount\n",
    "    print(f\"A 15% discount of ${discount:.2f} has been applied.\")\n",
    "else:\n",
    "    final_price = ticket_price  # No discount\n",
    "    print(\"No discount applied.\")\n",
    "\n",
    "print(f\"The total ticket price is: ${final_price:.2f}\")"
   ]
  },
  {
   "cell_type": "markdown",
   "id": "cb9d28d8",
   "metadata": {},
   "source": [
    "## 18.\tTicket Type Pricing\n",
    " * If the ticket is for a weekend (is_weekend = True), add a 10% surcharge. Otherwise, charge the standard price.\n"
   ]
  },
  {
   "cell_type": "code",
   "execution_count": 99,
   "id": "4e4af9c0",
   "metadata": {},
   "outputs": [
    {
     "name": "stdout",
     "output_type": "stream",
     "text": [
      "Enter the ticket price: 1350\n",
      "Is the ticket for a weekend? (yes/no): YES\n",
      "A 10% weekend surcharge of $135.00 has been applied.\n",
      "The total ticket price is: $1485.00\n"
     ]
    }
   ],
   "source": [
    "ticket_price = float(input(\"Enter the ticket price: \"))\n",
    "is_weekend = input(\"Is the ticket for a weekend? (yes/no): \").strip().lower() == \"yes\"\n",
    "\n",
    "if is_weekend:\n",
    "    surcharge_rate = 0.10  # 10% surcharge\n",
    "    surcharge = ticket_price * surcharge_rate\n",
    "    final_price = ticket_price + surcharge\n",
    "    print(f\"A 10% weekend surcharge of ${surcharge:.2f} has been applied.\")\n",
    "else:\n",
    "    final_price = ticket_price  # No surcharge\n",
    "    print(\"No surcharge applied.\")\n",
    "\n",
    "# Output the final price\n",
    "print(f\"The total ticket price is: ${final_price:.2f}\")\n"
   ]
  },
  {
   "cell_type": "markdown",
   "id": "bd20d311",
   "metadata": {},
   "source": [
    "## 19.\tBaggage Fee\n",
    " * If the total baggage weight is over 20kg, charge $10 per extra kilogram. Otherwise, no extra fee.\n"
   ]
  },
  {
   "cell_type": "code",
   "execution_count": 101,
   "id": "76282bed",
   "metadata": {},
   "outputs": [
    {
     "name": "stdout",
     "output_type": "stream",
     "text": [
      "Enter the total baggage weight in kg: 21\n",
      "Extra baggage fee for 1.0kg: $10.00\n",
      "The total baggage fee is: $10.00\n"
     ]
    }
   ],
   "source": [
    "baggage_weight = float(input(\"Enter the total baggage weight in kg: \"))\n",
    "\n",
    "if baggage_weight > 20:\n",
    "    extra_weight = baggage_weight - 20  # Calculate weight over 20kg\n",
    "    extra_fee = extra_weight * 10  # $10 per extra kilogram\n",
    "    print(f\"Extra baggage fee for {extra_weight:.1f}kg: ${extra_fee:.2f}\")\n",
    "else:\n",
    "    extra_fee = 0  # No extra fee\n",
    "    print(\"No extra baggage fee.\")\n",
    "print(f\"The total baggage fee is: ${extra_fee:.2f}\")\n"
   ]
  },
  {
   "cell_type": "markdown",
   "id": "da10d01c",
   "metadata": {},
   "source": [
    "## 20.\tEarly Bird Discount\n",
    " * If a ticket is booked more than 30 days in advance, apply a 10% discount. Otherwise, charge the full price.\n"
   ]
  },
  {
   "cell_type": "code",
   "execution_count": 103,
   "id": "d8f82324",
   "metadata": {},
   "outputs": [
    {
     "name": "stdout",
     "output_type": "stream",
     "text": [
      "Enter the ticket price: 2300\n",
      "Enter the number of days in advance the ticket is booked: 31\n",
      "A 10% early bird discount of $230.00 has been applied.\n",
      "The total ticket price is: $2070.00\n"
     ]
    }
   ],
   "source": [
    "ticket_price = float(input(\"Enter the ticket price: \"))\n",
    "days_in_advance = int(input(\"Enter the number of days in advance the ticket is booked: \"))\n",
    "\n",
    "if days_in_advance > 30:\n",
    "    discount_rate = 0.10  # 10% discount\n",
    "    discount = ticket_price * discount_rate\n",
    "    final_price = ticket_price - discount\n",
    "    print(f\"A 10% early bird discount of ${discount:.2f} has been applied.\")\n",
    "else:\n",
    "    final_price = ticket_price  # No discount\n",
    "    print(\"No discount applied.\")\n",
    "\n",
    "print(f\"The total ticket price is: ${final_price:.2f}\")\n"
   ]
  },
  {
   "cell_type": "markdown",
   "id": "b48fa4a6",
   "metadata": {},
   "source": [
    "# E-\tGrades and Performance"
   ]
  },
  {
   "cell_type": "markdown",
   "id": "e8a15e16",
   "metadata": {},
   "source": [
    "## 21.\tPass or Fail\n",
    " * If a student scores 40 or more, print \"Pass\". Otherwise, print \"Fail\".\n"
   ]
  },
  {
   "cell_type": "code",
   "execution_count": 104,
   "id": "06387f66",
   "metadata": {},
   "outputs": [
    {
     "name": "stdout",
     "output_type": "stream",
     "text": [
      "Enter your marks:75\n",
      "Pass\n"
     ]
    }
   ],
   "source": [
    "std_marks = int(input(\"Enter your marks:\"))\n",
    "\n",
    "if std_marks >= 40:\n",
    "    print(\"Pass\")\n",
    "else:\n",
    "    print(\"Fail\")"
   ]
  },
  {
   "cell_type": "markdown",
   "id": "ed1f34a1",
   "metadata": {},
   "source": [
    "## 22.\tGrade Assignment\n",
    " ** Based on a student's score, assign grades:\n",
    "* 90 and above: \"A\"\n",
    "* 75–89: \"B\"\n",
    "* 50–74: \"C\"\n",
    "* Below 50: \"F\"\n"
   ]
  },
  {
   "cell_type": "code",
   "execution_count": 110,
   "id": "19a7b020",
   "metadata": {},
   "outputs": [
    {
     "name": "stdout",
     "output_type": "stream",
     "text": [
      "Enter your marks:81\n",
      "The grade for the score 81 is: B-Grade\n"
     ]
    }
   ],
   "source": [
    "std_marks = int(input(\"Enter your marks:\"))\n",
    "\n",
    "if std_marks > 90 :\n",
    "    grad = \"A-Grade\"\n",
    "elif 75 <= std_marks < 89:\n",
    "    grad = \"B-Grade\"\n",
    "elif 50<= std_marks < 74:\n",
    "    grad = \"C-Grade\"\n",
    "else:\n",
    "    grad = \"Fail\"\n",
    "print(f\"The grade for the score {std_marks} is: {grad}\")"
   ]
  },
  {
   "cell_type": "markdown",
   "id": "d0a4dc78",
   "metadata": {},
   "source": [
    "## 23.\tBonus Marks\n",
    " * If a student completes all assignments, add 5 bonus marks to their score. Otherwise, no bonus marks.\n"
   ]
  },
  {
   "cell_type": "code",
   "execution_count": 111,
   "id": "6fbd1d4d",
   "metadata": {},
   "outputs": [
    {
     "name": "stdout",
     "output_type": "stream",
     "text": [
      "Enter the student's score: 85\n",
      "Has the student completed all assignments? (yes/no): YES\n",
      "5 bonus marks have been added. New score: 90.00\n",
      "The final score is: 90.00\n"
     ]
    }
   ],
   "source": [
    "score = float(input(\"Enter the student's score: \"))\n",
    "completed_assignments = input(\"Has the student completed all assignments? (yes/no): \").strip().lower() == \"yes\"\n",
    "\n",
    "if completed_assignments:\n",
    "    bonus_marks = 5\n",
    "    score += bonus_marks  # Add bonus marks to the score\n",
    "    print(f\"5 bonus marks have been added. New score: {score:.2f}\")\n",
    "else:\n",
    "    print(\"No bonus marks added.\")\n",
    "\n",
    "print(f\"The final score is: {score:.2f}\")\n"
   ]
  },
  {
   "cell_type": "markdown",
   "id": "8795d2ab",
   "metadata": {},
   "source": [
    "## 24.\tAttendance Eligibility\n",
    " * If a student's attendance is 75% or more, they are eligible to take the exam. Otherwise, they are not.\n"
   ]
  },
  {
   "cell_type": "code",
   "execution_count": 113,
   "id": "3df4eb95",
   "metadata": {},
   "outputs": [
    {
     "name": "stdout",
     "output_type": "stream",
     "text": [
      "Enter the student's attendance percentage: 79\n",
      "Attendance Status: Eligible to take the exam\n"
     ]
    }
   ],
   "source": [
    "attendance_percentage = float(input(\"Enter the student's attendance percentage: \"))\n",
    "\n",
    "if attendance_percentage >= 75:\n",
    "    eligibility = \"Eligible to take the exam\"\n",
    "else:\n",
    "    eligibility = \"Not eligible to take the exam\"\n",
    "\n",
    "print(f\"Attendance Status: {eligibility}\")\n"
   ]
  },
  {
   "cell_type": "markdown",
   "id": "fb63c98b",
   "metadata": {},
   "source": [
    "## 25.\tScholarship Eligibility\n",
    " * If a student's grade is \"A\" and their annual family income is below $30,000, they are eligible for a scholarship. Otherwise, they are not.\n"
   ]
  },
  {
   "cell_type": "code",
   "execution_count": 116,
   "id": "fe046145",
   "metadata": {},
   "outputs": [
    {
     "name": "stdout",
     "output_type": "stream",
     "text": [
      "Enter the student's grade (A, B, C, F): A\n",
      "Enter the student's annual family income: 29999\n",
      "Scholarship Status: Eligible for a scholarship\n"
     ]
    }
   ],
   "source": [
    "grade = input(\"Enter the student's grade (A, B, C, F): \").strip().upper()\n",
    "family_income = float(input(\"Enter the student's annual family income: \"))\n",
    "\n",
    "if grade == \"A\" and family_income < 30000:\n",
    "    eligibility = \"Eligible for a scholarship\"\n",
    "else:\n",
    "    eligibility = \"Not eligible for a scholarship\"\n",
    "\n",
    "print(f\"Scholarship Status: {eligibility}\")\n"
   ]
  },
  {
   "cell_type": "code",
   "execution_count": null,
   "id": "5af400a5",
   "metadata": {},
   "outputs": [],
   "source": []
  }
 ],
 "metadata": {
  "kernelspec": {
   "display_name": "Python 3 (ipykernel)",
   "language": "python",
   "name": "python3"
  },
  "language_info": {
   "codemirror_mode": {
    "name": "ipython",
    "version": 3
   },
   "file_extension": ".py",
   "mimetype": "text/x-python",
   "name": "python",
   "nbconvert_exporter": "python",
   "pygments_lexer": "ipython3",
   "version": "3.11.4"
  }
 },
 "nbformat": 4,
 "nbformat_minor": 5
}
