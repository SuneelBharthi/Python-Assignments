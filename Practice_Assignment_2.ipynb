{
 "cells": [
  {
   "cell_type": "markdown",
   "id": "b0ba3217",
   "metadata": {},
   "source": [
    "# 1) Area of a Rectangle:\n",
    "* Write a Python program to calculate the area of a rectangle. Use the formula: \n",
    "\n",
    "** 𝐴𝒓𝒆𝒂 = 𝒍𝒆𝒏𝒈𝒕𝒉 × 𝒘𝒊𝒅𝒕𝒉"
   ]
  },
  {
   "cell_type": "code",
   "execution_count": 1,
   "id": "c44d3540",
   "metadata": {},
   "outputs": [
    {
     "name": "stdout",
     "output_type": "stream",
     "text": [
      "Enter len of the rectangle:50\n",
      "enter width of rectangle: 30\n",
      "Area of the Rectangle is: 1500.0\n"
     ]
    }
   ],
   "source": [
    "length = float(input(\"Enter len of the rectangle:\"))\n",
    "width = float(input(\"enter width of rectangle: \"))\n",
    "\n",
    "area = length * width\n",
    "print(f\"Area of the Rectangle is: {area}\")"
   ]
  },
  {
   "cell_type": "markdown",
   "id": "d994e9f0",
   "metadata": {},
   "source": [
    "# 2) Circumference of a Circle: \n",
    "* Write a Python program to calculate the circumference of a circle. Use the formula: \n",
    "\n",
    "**𝑪𝒊𝒓𝒄𝒖𝒎𝒇𝒆𝒓𝒆𝒏𝒄𝒆 = 𝟐𝝅𝒓\n"
   ]
  },
  {
   "cell_type": "code",
   "execution_count": 2,
   "id": "146e5529",
   "metadata": {},
   "outputs": [
    {
     "name": "stdout",
     "output_type": "stream",
     "text": [
      "Enter the redius of the circle: 6\n",
      "Circumference of the Circle : 37.69911184307752\n"
     ]
    }
   ],
   "source": [
    "import math\n",
    "\n",
    "radius = float(input(\"Enter the redius of the circle: \"))\n",
    "circumference = 2 * math.pi * radius\n",
    "print(f\"Circumference of the Circle : {circumference}\")\n"
   ]
  },
  {
   "cell_type": "markdown",
   "id": "465cfe80",
   "metadata": {},
   "source": [
    "# 3) Simple Interest:\n",
    "* Write a Python program to calculate the simple interest. Use the formula:\n",
    "\n",
    "    ** 𝑺𝒊𝒎𝒑𝒍𝒆 𝑰𝒏𝒕𝒆𝒓𝒆𝒔𝒕 = 𝑷𝒓𝒊𝒏𝒄𝒊𝒑𝒂𝒍 × 𝑹𝒂𝒕𝒆 × 𝑻𝒊𝒎𝒆 "
   ]
  },
  {
   "cell_type": "code",
   "execution_count": 3,
   "id": "16251c44",
   "metadata": {},
   "outputs": [
    {
     "name": "stdout",
     "output_type": "stream",
     "text": [
      "Enter the Principle amount: 5700000\n",
      "Enter the annual interest rate (in %): 4\n",
      "Enter the time( in year): 5\n",
      "Simple_Interest is: 1140000.0\n"
     ]
    }
   ],
   "source": [
    "principle =float(input(\"Enter the Principle amount: \"))\n",
    "rate = float(input(\"Enter the annual interest rate (in %): \")) / 100\n",
    "time = float(input(\"Enter the time( in year): \"))\n",
    "s_i = principle * rate * time\n",
    "print(f\"Simple_Interest is: {s_i}\")\n"
   ]
  },
  {
   "cell_type": "markdown",
   "id": "f2cf1bfb",
   "metadata": {},
   "source": [
    "## 4) Area of a Rectangle: \n",
    "    * Write a Python program to calculate the area of a rectangle. Use the formula: \n",
    "   *A𝒓𝒆𝒂 = 𝒍𝒆𝒏𝒈𝒕𝒉 × 𝒘𝒊𝒅𝒕𝒉 "
   ]
  },
  {
   "cell_type": "code",
   "execution_count": 6,
   "id": "3e7f643c",
   "metadata": {},
   "outputs": [
    {
     "name": "stdout",
     "output_type": "stream",
     "text": [
      "Enter the distance (in meters): 3\n",
      "Enter the time (in seconds): 79\n",
      "Speed of the object: 0.0379746835443038 m/s\n"
     ]
    }
   ],
   "source": [
    "distance = float(input(\"Enter the distance (in meters): \"))\n",
    "time = float(input(\"Enter the time (in seconds): \"))\n",
    "speed = distance / time\n",
    "print(f\"Speed of the object: {speed} m/s\")"
   ]
  },
  {
   "cell_type": "markdown",
   "id": "ce55289a",
   "metadata": {},
   "source": [
    "## 5) BMI Calculator: \n",
    "    * Write a Python program to calculate the Body Mass Index (BMI). Use the formula: \n",
    "*BMI = weight(kg) / height*2"
   ]
  },
  {
   "cell_type": "code",
   "execution_count": 7,
   "id": "6ee7023c",
   "metadata": {},
   "outputs": [
    {
     "name": "stdout",
     "output_type": "stream",
     "text": [
      "Enter weight (in kilograms): 64\n",
      "Enter height (in meters): 5.8\n",
      "Body Mass Index (BMI): 1.9024970273483948\n"
     ]
    }
   ],
   "source": [
    "weight = float(input(\"Enter weight (in kilograms): \"))\n",
    "height = float(input(\"Enter height (in meters): \"))\n",
    "bmi = weight / (height ** 2)\n",
    "print(f\"Body Mass Index (BMI): {bmi}\")"
   ]
  },
  {
   "cell_type": "markdown",
   "id": "8803ae42",
   "metadata": {},
   "source": [
    "## 6) Force Using Newton's Second Law: \n",
    "    *Write a Python program to calculate the force on an object. Use the formula: \n",
    "   * F = ma"
   ]
  },
  {
   "cell_type": "code",
   "execution_count": 8,
   "id": "01f54006",
   "metadata": {},
   "outputs": [
    {
     "name": "stdout",
     "output_type": "stream",
     "text": [
      "Enter mass (in kilograms): 250\n",
      "Enter acceleration (in meters/second²): 60\n",
      "Force: 15000.0 N\n"
     ]
    }
   ],
   "source": [
    "mass = float(input(\"Enter mass (in kilograms): \"))\n",
    "acceleration = float(input(\"Enter acceleration (in meters/second²): \"))\n",
    "force = mass * acceleration\n",
    "print(f\"Force: {force} N\")"
   ]
  },
  {
   "cell_type": "markdown",
   "id": "999ea743",
   "metadata": {},
   "source": [
    "## 7) Compound Interest: \n",
    "    *Write a Python program to calculate compound interest. Use the formula: \n",
    "* A = P(1+r/n)*n-t\n",
    " * Where: \n",
    "    A= total amount \n",
    "    P = principal amount \n",
    "    r = annual interest rate (decimal) \n",
    "    n = number of times interest is compounded per year \n",
    "    t = time in year"
   ]
  },
  {
   "cell_type": "code",
   "execution_count": 10,
   "id": "12c6236b",
   "metadata": {},
   "outputs": [
    {
     "name": "stdout",
     "output_type": "stream",
     "text": [
      "Enter the principal amount: 2500000\n",
      "Enter the annual interest rate (in %): 4\n",
      "Enter the number of times interest is compounded per year: 25\n",
      "Enter the time (in years): 50\n",
      "Compound Interest: 18443139.093846522\n"
     ]
    }
   ],
   "source": [
    "principal = float(input(\"Enter the principal amount: \"))\n",
    "rate = float(input(\"Enter the annual interest rate (in %): \")) / 100\n",
    "n = int(input(\"Enter the number of times interest is compounded per year: \"))\n",
    "time = float(input(\"Enter the time (in years): \"))\n",
    "compound_interest = principal * (1 + rate / n) ** (n * time)\n",
    "print(f\"Compound Interest: {compound_interest}\")"
   ]
  },
  {
   "cell_type": "markdown",
   "id": "ed27b1c6",
   "metadata": {},
   "source": [
    "## 8) Perimeter of a Triangle: \n",
    "    * Write a Python program to calculate the perimeter of a triangle. Use the formula: \n",
    "* 𝑷𝒆𝒓𝒊𝒎𝒆𝒕𝒆𝒓 = 𝒂 + 𝒃 + �"
   ]
  },
  {
   "cell_type": "code",
   "execution_count": 11,
   "id": "b5ca14a2",
   "metadata": {},
   "outputs": [
    {
     "name": "stdout",
     "output_type": "stream",
     "text": [
      "Enter side a: 3\n",
      "Enter side b: 4\n",
      "Enter side c: 3\n",
      "Perimeter of the triangle: 10.0\n"
     ]
    }
   ],
   "source": [
    "a = float(input(\"Enter side a: \"))\n",
    "b = float(input(\"Enter side b: \"))\n",
    "c = float(input(\"Enter side c: \"))\n",
    "perimeter = a + b + c\n",
    "print(f\"Perimeter of the triangle: {perimeter}\")"
   ]
  },
  {
   "cell_type": "markdown",
   "id": "8bd307e8",
   "metadata": {},
   "source": [
    "## 9) Volume of a Sphere: \n",
    "    Write a Python program to calculate the volume of a sphere. Use the formula\n",
    "   * volume = 4/3 * pie r *3"
   ]
  },
  {
   "cell_type": "code",
   "execution_count": 12,
   "id": "83c6ef7a",
   "metadata": {},
   "outputs": [
    {
     "name": "stdout",
     "output_type": "stream",
     "text": [
      "Enter the radius of the sphere: 5\n",
      "Volume of the sphere: 523.5987755982989\n"
     ]
    }
   ],
   "source": [
    "radius = float(input(\"Enter the radius of the sphere: \"))\n",
    "volume = (4/3) * math.pi * (radius ** 3)\n",
    "print(f\"Volume of the sphere: {volume}\")"
   ]
  },
  {
   "cell_type": "markdown",
   "id": "527d6f21",
   "metadata": {},
   "source": [
    "## 10) Kinetic Energy: \n",
    "    Write a Python program to calculate the kinetic energy of an object. Use the formula: \n",
    "𝑲𝑬 =𝟏/𝟐𝒎 𝑽�"
   ]
  },
  {
   "cell_type": "code",
   "execution_count": 14,
   "id": "cbde569b",
   "metadata": {},
   "outputs": [
    {
     "name": "stdout",
     "output_type": "stream",
     "text": [
      "Enter mass (in kilograms): 22\n",
      "Enter velocity (in meters/second): 3\n",
      "Kinetic Energy: 99.0\n"
     ]
    }
   ],
   "source": [
    "mass = float(input(\"Enter mass (in kilograms): \"))\n",
    "velocity = float(input(\"Enter velocity (in meters/second): \"))\n",
    "kinetic_energy = 0.5 * mass * (velocity ** 2)\n",
    "print(f\"Kinetic Energy: {kinetic_energy}\")\n"
   ]
  },
  {
   "cell_type": "markdown",
   "id": "1dc845d2",
   "metadata": {},
   "source": [
    "## 11) Quadratic Equation Roots: \n",
    "Write a Python program to find the roots of a quadratic equation. Use the formula: \n"
   ]
  },
  {
   "cell_type": "code",
   "execution_count": 15,
   "id": "935c4cc7",
   "metadata": {},
   "outputs": [
    {
     "name": "stdout",
     "output_type": "stream",
     "text": [
      "Enter coefficient a: 3\n",
      "Enter coefficient b: 4\n",
      "Enter coefficient c: 5\n",
      "Roots of the equation: (-0.6666666666666666+1.1055415967851332j), (-0.6666666666666666-1.1055415967851332j)\n"
     ]
    }
   ],
   "source": [
    "import cmath\n",
    "a = float(input(\"Enter coefficient a: \"))\n",
    "b = float(input(\"Enter coefficient b: \"))\n",
    "c = float(input(\"Enter coefficient c: \"))\n",
    "discriminant = cmath.sqrt(b**2 - 4*a*c)\n",
    "root1 = (-b + discriminant) / (2 * a)\n",
    "root2 = (-b - discriminant) / (2 * a)\n",
    "print(f\"Roots of the equation: {root1}, {root2}\")"
   ]
  },
  {
   "cell_type": "markdown",
   "id": "4a49134d",
   "metadata": {},
   "source": [
    "## 12) Temperature Conversion: \n",
    "Write a Python program to convert a temperature from Celsius to Fahrenheit. "
   ]
  },
  {
   "cell_type": "code",
   "execution_count": 16,
   "id": "4989221d",
   "metadata": {},
   "outputs": [
    {
     "name": "stdout",
     "output_type": "stream",
     "text": [
      "Enter temperature in Celsius: 26\n",
      "Temperature in Fahrenheit: 78.8\n"
     ]
    }
   ],
   "source": [
    "celsius = float(input(\"Enter temperature in Celsius: \"))\n",
    "fahrenheit = (celsius * 9/5) + 32\n",
    "print(f\"Temperature in Fahrenheit: {fahrenheit}\")"
   ]
  },
  {
   "cell_type": "markdown",
   "id": "2fdcc9f0",
   "metadata": {},
   "source": [
    "## 13) Gravitational Force: \n",
    "Write a Python program to calculate the gravitational force between two objects. \n"
   ]
  },
  {
   "cell_type": "code",
   "execution_count": 17,
   "id": "877bf756",
   "metadata": {},
   "outputs": [
    {
     "name": "stdout",
     "output_type": "stream",
     "text": [
      "Enter mass of first object (in kg): 7\n",
      "Enter mass of second object (in kg): 6\n",
      "Enter the distance between the objects (in meters): 5\n",
      "Gravitational Force: 1.1212824e-10 N\n"
     ]
    }
   ],
   "source": [
    "G = 6.67430e-11  # Gravitational constant\n",
    "m1 = float(input(\"Enter mass of first object (in kg): \"))\n",
    "m2 = float(input(\"Enter mass of second object (in kg): \"))\n",
    "r = float(input(\"Enter the distance between the objects (in meters): \"))\n",
    "force = G * (m1 * m2) / (r ** 2)\n",
    "print(f\"Gravitational Force: {force} N\")"
   ]
  },
  {
   "cell_type": "markdown",
   "id": "470ff0e7",
   "metadata": {},
   "source": [
    "## 14) Volume of a Cylinder:\n",
    "    *Write a Python program to calculate the volume of a cylinder. Use the formula: \n",
    "* 𝑽𝒐𝒍𝒖𝒎𝒆 = 𝝅𝒓𝟐𝒉"
   ]
  },
  {
   "cell_type": "code",
   "execution_count": 18,
   "id": "46758261",
   "metadata": {},
   "outputs": [
    {
     "name": "stdout",
     "output_type": "stream",
     "text": [
      "Enter the radius of the cylinder: 5\n",
      "Enter the height of the cylinder: 7\n",
      "Volume of the cylinder: 549.7787143782139\n"
     ]
    }
   ],
   "source": [
    "radius = float(input(\"Enter the radius of the cylinder: \"))\n",
    "height = float(input(\"Enter the height of the cylinder: \"))\n",
    "volume = math.pi * (radius ** 2) * height\n",
    "print(f\"Volume of the cylinder: {volume}\")"
   ]
  },
  {
   "cell_type": "markdown",
   "id": "4a6230d7",
   "metadata": {},
   "source": [
    "## 15) Pressure:\n",
    "Write a Python program to calculate the pressure exerted by a force on a surface. Use \n",
    "the formula: \n",
    "𝑷 = 𝑭/𝑨"
   ]
  },
  {
   "cell_type": "code",
   "execution_count": 19,
   "id": "610cf446",
   "metadata": {},
   "outputs": [
    {
     "name": "stdout",
     "output_type": "stream",
     "text": [
      "Enter force (in N): 5\n",
      "Enter area (in m²): 5\n",
      "Pressure: 1.0 Pa\n"
     ]
    }
   ],
   "source": [
    "force = float(input(\"Enter force (in N): \"))\n",
    "area = float(input(\"Enter area (in m²): \"))\n",
    "pressure = force / area\n",
    "print(f\"Pressure: {pressure} Pa\")"
   ]
  },
  {
   "cell_type": "markdown",
   "id": "81d135bd",
   "metadata": {},
   "source": [
    "## 16) Electric Power:\n",
    "Write a Python program to calculate the electric power consumed. Use the formula:\n",
    "p = v/i    "
   ]
  },
  {
   "cell_type": "code",
   "execution_count": 20,
   "id": "caeeb9a2",
   "metadata": {},
   "outputs": [
    {
     "name": "stdout",
     "output_type": "stream",
     "text": [
      "Enter voltage (in V): 240\n",
      "Enter current (in A): 30\n",
      "Electric Power: 7200.0 W\n"
     ]
    }
   ],
   "source": [
    "voltage = float(input(\"Enter voltage (in V): \"))\n",
    "current = float(input(\"Enter current (in A): \"))\n",
    "power = voltage * current\n",
    "print(f\"Electric Power: {power} W\")"
   ]
  },
  {
   "cell_type": "markdown",
   "id": "4a972e7d",
   "metadata": {},
   "source": [
    "## 17) Perimeter of a Circle (Circumference): \n",
    "Write a Python program to calculate the perimeter (circumference) of a circle. "
   ]
  },
  {
   "cell_type": "code",
   "execution_count": 21,
   "id": "b811d161",
   "metadata": {},
   "outputs": [
    {
     "name": "stdout",
     "output_type": "stream",
     "text": [
      "Enter the radius of the circle: 4\n",
      "Circumference of the circle: 25.132741228718345\n"
     ]
    }
   ],
   "source": [
    "radius = float(input(\"Enter the radius of the circle: \"))\n",
    "circumference = 2 * math.pi * radius\n",
    "print(f\"Circumference of the circle: {circumference}\")\n"
   ]
  },
  {
   "cell_type": "markdown",
   "id": "8f7f9e36",
   "metadata": {},
   "source": [
    "## 18) Future Value in Savings:\n",
    "Write a Python program to calculate the future value of an investment. Use the formula: \n",
    "𝐹𝑉 = 𝑃𝑉(1 + 𝑟)\n",
    "௧\n",
    "where: \n",
    "o FV= future value \n",
    "o PV= present value \n",
    "o r= annual interest rate (as a decimal) \n",
    "o t= time in years "
   ]
  },
  {
   "cell_type": "code",
   "execution_count": 22,
   "id": "761a24a5",
   "metadata": {},
   "outputs": [
    {
     "name": "stdout",
     "output_type": "stream",
     "text": [
      "Enter present value: 100\n",
      "Enter annual interest rate (as decimal): 6\n",
      "Enter time (in years): 12\n",
      "Future Value: 1384128720100.0\n"
     ]
    }
   ],
   "source": [
    "pv = float(input(\"Enter present value: \"))\n",
    "rate = float(input(\"Enter annual interest rate (as decimal): \"))\n",
    "time = float(input(\"Enter time (in years): \"))\n",
    "future_value = pv * (1 + rate) ** time\n",
    "print(f\"Future Value: {future_value}\")\n"
   ]
  },
  {
   "cell_type": "markdown",
   "id": "e25484f9",
   "metadata": {},
   "source": [
    "## 19) Work Done by a Force:\n",
    "Write a Python program to calculate the work done by a force. Use the formula: \n",
    "where: \n",
    "W = work done \n",
    "f= force \n",
    "d = distance "
   ]
  },
  {
   "cell_type": "code",
   "execution_count": 23,
   "id": "83b744a0",
   "metadata": {},
   "outputs": [
    {
     "name": "stdout",
     "output_type": "stream",
     "text": [
      "Enter force (in N): 4\n",
      "Enter distance (in m): 5\n",
      "Enter angle (in degrees): 6\n",
      "Work Done: 19.890437907365467 J\n"
     ]
    }
   ],
   "source": [
    "force = float(input(\"Enter force (in N): \"))\n",
    "distance = float(input(\"Enter distance (in m): \"))\n",
    "theta = float(input(\"Enter angle (in degrees): \"))\n",
    "work_done = force * distance * math.cos(math.radians(theta))\n",
    "print(f\"Work Done: {work_done} J\")\n",
    "\n"
   ]
  },
  {
   "cell_type": "markdown",
   "id": "d10a68e8",
   "metadata": {},
   "source": [
    "## 20) Heat Transfer:\n",
    "Write a Python program to calculate the amount of heat transferred. Use the formula: \n",
    "𝑄 = 𝑚𝑐 (∆T)\n",
    "where: \n",
    "Q= heat transfer \n",
    "m = mass \n",
    "c = specific heat capacity \n"
   ]
  },
  {
   "cell_type": "code",
   "execution_count": 24,
   "id": "8c01af92",
   "metadata": {},
   "outputs": [
    {
     "name": "stdout",
     "output_type": "stream",
     "text": [
      "Enter mass (in kg): 40\n",
      "Enter specific heat capacity (in J/kg°C): 25\n",
      "Enter temperature change (in °C): 1\n",
      "Heat Transfer: 1000.0 J\n"
     ]
    }
   ],
   "source": [
    "\n",
    "mass = float(input(\"Enter mass (in kg): \"))\n",
    "specific_heat = float(input(\"Enter specific heat capacity (in J/kg°C): \"))\n",
    "delta_temp = float(input(\"Enter temperature change (in °C): \"))\n",
    "heat_transfer = mass * specific_heat * delta_temp\n",
    "print(f\"Heat Transfer: {heat_transfer} J\")"
   ]
  },
  {
   "cell_type": "code",
   "execution_count": null,
   "id": "5c0f134b",
   "metadata": {},
   "outputs": [],
   "source": []
  },
  {
   "cell_type": "code",
   "execution_count": 21,
   "id": "d7756573",
   "metadata": {},
   "outputs": [
    {
     "name": "stdout",
     "output_type": "stream",
     "text": [
      "Enter the speed (in km/h): 100\n",
      "Enter the time traveled (in hours): 3.55\n",
      "The distance between the two cities is: 355.0 km.\n"
     ]
    }
   ],
   "source": [
    "speed = float(input(\"Enter the speed (in km/h): \"))\n",
    "time = float(input(\"Enter the time traveled (in hours): \"))\n",
    "distance = speed * time\n",
    "print(f\"The distance between the two cities is: {distance} km.\")"
   ]
  },
  {
   "cell_type": "code",
   "execution_count": 22,
   "id": "a4c01f18",
   "metadata": {},
   "outputs": [
    {
     "name": "stdout",
     "output_type": "stream",
     "text": [
      "Enter the cost of the food bill: 2550\n",
      "Tax: $204.00, Tip: $382.50, Total Bill: $3136.50\n"
     ]
    }
   ],
   "source": [
    "food_bill = float(input(\"Enter the cost of the food bill: \"))\n",
    "tax_rate = 0.08  # 8% tax\n",
    "tip_rate = 0.15  # 15% tip\n",
    "tax = food_bill * tax_rate\n",
    "tip = food_bill * tip_rate\n",
    "total_bill = food_bill + tax + tip\n",
    "print(f\"Tax: ${tax:.2f}, Tip: ${tip:.2f}, Total Bill: ${total_bill:.2f}\")"
   ]
  },
  {
   "cell_type": "code",
   "execution_count": null,
   "id": "6d57a24e",
   "metadata": {},
   "outputs": [],
   "source": []
  }
 ],
 "metadata": {
  "kernelspec": {
   "display_name": "Python 3 (ipykernel)",
   "language": "python",
   "name": "python3"
  },
  "language_info": {
   "codemirror_mode": {
    "name": "ipython",
    "version": 3
   },
   "file_extension": ".py",
   "mimetype": "text/x-python",
   "name": "python",
   "nbconvert_exporter": "python",
   "pygments_lexer": "ipython3",
   "version": "3.11.4"
  }
 },
 "nbformat": 4,
 "nbformat_minor": 5
}
