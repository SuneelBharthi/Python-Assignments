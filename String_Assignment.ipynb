{
 "cells": [
  {
   "cell_type": "code",
   "execution_count": 11,
   "id": "f64e5dd2",
   "metadata": {},
   "outputs": [
    {
     "name": "stdout",
     "output_type": "stream",
     "text": [
      "10\n",
      "<class 'decimal.Decimal'>\n"
     ]
    }
   ],
   "source": [
    "import decimal\n",
    "integer = 10\n",
    "print(decimal.Decimal(integer))\n",
    "print(type(decimal.Decimal(integer)))"
   ]
  },
  {
   "cell_type": "code",
   "execution_count": 13,
   "id": "71eb268b",
   "metadata": {},
   "outputs": [
    {
     "name": "stdout",
     "output_type": "stream",
     "text": [
      "12345\n",
      "<class 'decimal.Decimal'>\n"
     ]
    }
   ],
   "source": [
    "import decimal\n",
    "string = '12345'\n",
    "print(decimal.Decimal(string))\n",
    "print(type(decimal.Decimal(string)))"
   ]
  },
  {
   "cell_type": "code",
   "execution_count": 19,
   "id": "e6ba0c15",
   "metadata": {},
   "outputs": [
    {
     "name": "stdout",
     "output_type": "stream",
     "text": [
      "dlroW olleH\n"
     ]
    }
   ],
   "source": [
    "string = 'Hello World'\n",
    "print(string[::-1])"
   ]
  },
  {
   "cell_type": "code",
   "execution_count": 21,
   "id": "01b7411d",
   "metadata": {},
   "outputs": [
    {
     "name": "stdout",
     "output_type": "stream",
     "text": [
      "Total Vowals are occurs in the sentence are: 7\n"
     ]
    }
   ],
   "source": [
    "# Count Vowels in sentence\n",
    "vowel = ['a','e','i','o','u']\n",
    "word = \"python programming is good\"\n",
    "count = 0 \n",
    "for character in word:\n",
    "    if character in vowel:\n",
    "        count += 1\n",
    "print(f\"Total Vowals are occurs in the sentence are: {count}\")"
   ]
  },
  {
   "cell_type": "code",
   "execution_count": 22,
   "id": "25c6a649",
   "metadata": {},
   "outputs": [
    {
     "name": "stdout",
     "output_type": "stream",
     "text": [
      "19\n"
     ]
    }
   ],
   "source": [
    "# count word without vowels\n",
    "vowel = ['a','e','i','o','u']\n",
    "word = \"python programming is good\"\n",
    "count = 0 \n",
    "for character in word:\n",
    "    if character not in vowel:\n",
    "        count += 1\n",
    "print(count)"
   ]
  },
  {
   "cell_type": "code",
   "execution_count": 31,
   "id": "1c730c00",
   "metadata": {},
   "outputs": [
    {
     "name": "stdout",
     "output_type": "stream",
     "text": [
      "Total Words in the sentence are: 26\n"
     ]
    }
   ],
   "source": [
    "# Total word\n",
    "word = \"python programming is good\"\n",
    "count = 0 \n",
    "for character in word:\n",
    "    count += 1\n",
    "print(f\"Total Words in the sentence are: {count}\")"
   ]
  },
  {
   "cell_type": "code",
   "execution_count": 35,
   "id": "70c2cab3",
   "metadata": {},
   "outputs": [
    {
     "name": "stdout",
     "output_type": "stream",
     "text": [
      "0, 1, 1, 2, 3, 5, 8, 13, 21, 34, 55, 89\n"
     ]
    }
   ],
   "source": [
    "# Writing Fibonacci Series\n",
    "\n",
    "fib = [0,1]\n",
    "n=10\n",
    "for i in range(n):\n",
    "    fib.append(fib[-1] + fib[-2])\n",
    "print(', '.join(str(e) for e in fib))"
   ]
  },
  {
   "cell_type": "code",
   "execution_count": 36,
   "id": "a0a89956",
   "metadata": {},
   "outputs": [
    {
     "name": "stdout",
     "output_type": "stream",
     "text": [
      "58\n"
     ]
    }
   ],
   "source": [
    "# Find max num in a list\n",
    "\n",
    "num_list = [2,4,11,43,52,2,34,58,23,31]\n",
    "max = num_list[0]\n",
    "for num in num_list:\n",
    "    if max < num:\n",
    "        max = num\n",
    "print(max)"
   ]
  },
  {
   "cell_type": "code",
   "execution_count": 38,
   "id": "3ebb1757",
   "metadata": {},
   "outputs": [
    {
     "name": "stdout",
     "output_type": "stream",
     "text": [
      "2\n"
     ]
    }
   ],
   "source": [
    "# Find min num in a list\n",
    "\n",
    "num_list = [2,4,11,43,52,2,34,58,23,31]\n",
    "min = num_list[0]\n",
    "for num in num_list:\n",
    "    if min > num:\n",
    "        min = num\n",
    "print(max)"
   ]
  },
  {
   "cell_type": "code",
   "execution_count": 44,
   "id": "a5c0bf2e",
   "metadata": {},
   "outputs": [
    {
     "name": "stdout",
     "output_type": "stream",
     "text": [
      "34\n"
     ]
    }
   ],
   "source": [
    "# Find the middle Element in a list\n",
    "\n",
    "num_list = [4,11,43,52,34,58,23,31]\n",
    "mid_ele = int((len(num_list)/2))\n",
    "print(num_list[mid_ele])"
   ]
  },
  {
   "cell_type": "code",
   "execution_count": 49,
   "id": "0c1e8713",
   "metadata": {},
   "outputs": [
    {
     "name": "stdout",
     "output_type": "stream",
     "text": [
      "['P', 'y', 't', 'h', 'o', 'n']\n",
      "Python\n",
      "<class 'str'>\n"
     ]
    }
   ],
   "source": [
    "# Convert a list into string\n",
    "\n",
    "lst = [\"P\", \"y\", \"t\", \"h\", \"o\", \"n\"]\n",
    "st = \"\".join(lst)\n",
    "print(lst)\n",
    "print (st)\n",
    "print(type(st))"
   ]
  },
  {
   "cell_type": "code",
   "execution_count": 56,
   "id": "329e0563",
   "metadata": {},
   "outputs": [
    {
     "name": "stdout",
     "output_type": "stream",
     "text": [
      "[5, 7, 9]\n"
     ]
    }
   ],
   "source": [
    "# add two list elements togather\n",
    "lst1 = [1,2,3]\n",
    "lst2 = [4,5,6]\n",
    "\n",
    "res_lst = []\n",
    "for i in range(0, len(lst1)):\n",
    "    res_lst.append(lst1[i] + lst2[i])\n",
    "print(res_lst)"
   ]
  },
  {
   "cell_type": "code",
   "execution_count": 62,
   "id": "691d1f2f",
   "metadata": {},
   "outputs": [
    {
     "name": "stdout",
     "output_type": "stream",
     "text": [
      "True\n",
      "LISTEN\n",
      "SILENT\n"
     ]
    }
   ],
   "source": [
    "# Compare two strings for anagrams\n",
    "\n",
    "str1 = \"Listen\"\n",
    "str2 = \"Silent\"\n",
    "\n",
    "str1 = str1.replace(\" \", \"\").upper()\n",
    "str2 = str2.replace(\" \", \"\").upper()\n",
    "\n",
    "if sorted(str1) == sorted(str2):\n",
    "    print(\"True\")\n",
    "else:\n",
    "    print(\"False\")\n",
    "    \n",
    "print(str1)\n",
    "print(str2)"
   ]
  },
  {
   "cell_type": "markdown",
   "id": "06cf5134",
   "metadata": {},
   "source": [
    "# Anagram"
   ]
  },
  {
   "cell_type": "code",
   "execution_count": 66,
   "id": "fda6f168",
   "metadata": {},
   "outputs": [
    {
     "name": "stdout",
     "output_type": "stream",
     "text": [
      "'listen' and 'silent' are anagrams.\n",
      "Anagrams of 'cat': {'atc', 'cat', 'cta', 'tac', 'tca', 'act'}\n"
     ]
    }
   ],
   "source": [
    "from itertools import permutations\n",
    "\n",
    "def are_anagrams(word1, word2):\n",
    "    \"\"\"\n",
    "    Check if two words are anagrams.\n",
    "    \"\"\"\n",
    "    return sorted(word1) == sorted(word2)\n",
    "\n",
    "def generate_anagrams(word):\n",
    "    \"\"\"\n",
    "    Generate all possible anagrams of a word.\n",
    "    \"\"\"\n",
    "    return set([''.join(p) for p in permutations(word)])\n",
    "\n",
    "# Example usage\n",
    "word1 = \"listen\"\n",
    "word2 = \"silent\"\n",
    "\n",
    "# Check if words are anagrams\n",
    "if are_anagrams(word1, word2):\n",
    "    print(f\"'{word1}' and '{word2}' are anagrams.\")\n",
    "else:\n",
    "    print(f\"'{word1}' and '{word2}' are not anagrams.\")\n",
    "\n",
    "# Generate all anagrams of a word\n",
    "word = \"cat\"\n",
    "print(f\"Anagrams of '{word}': {generate_anagrams(word)}\")\n"
   ]
  },
  {
   "cell_type": "markdown",
   "id": "ac535285",
   "metadata": {},
   "source": [
    "# Checking Palindrom"
   ]
  },
  {
   "cell_type": "code",
   "execution_count": 71,
   "id": "0f8a5ec9",
   "metadata": {},
   "outputs": [
    {
     "name": "stdout",
     "output_type": "stream",
     "text": [
      "Enter the word: radar\n",
      "yes it is Palindrome..!\n"
     ]
    }
   ],
   "source": [
    "str1 = str(input(\"Enter the word: \"))\n",
    "if str1 == str1[::-1]:\n",
    "    print(\"yes it is Palindrome..!\")\n",
    "else:\n",
    "    print(\"Not_Palindrome\")"
   ]
  },
  {
   "cell_type": "markdown",
   "id": "d11d31b3",
   "metadata": {},
   "source": [
    "# Count spaces"
   ]
  },
  {
   "cell_type": "code",
   "execution_count": 72,
   "id": "440aad56",
   "metadata": {},
   "outputs": [
    {
     "name": "stdout",
     "output_type": "stream",
     "text": [
      "10\n"
     ]
    }
   ],
   "source": [
    "string = \"P  r o  g ra mm i n g\"\n",
    "print(string.count(\" \"))"
   ]
  },
  {
   "cell_type": "markdown",
   "id": "4d49a068",
   "metadata": {},
   "source": [
    "# Count digits, Strings, and spaces"
   ]
  },
  {
   "cell_type": "code",
   "execution_count": 76,
   "id": "b61e2478",
   "metadata": {},
   "outputs": [
    {
     "name": "stdout",
     "output_type": "stream",
     "text": [
      "Total digits 2\n",
      "Total laters 27\n",
      "Total spacial Characters 2\n",
      "Total space 3\n"
     ]
    }
   ],
   "source": [
    "import re\n",
    "\n",
    "name = \"sunny bharthi goswami13 @gamil.com\"\n",
    "\n",
    "dg = re.sub(\"[^0-9]\", \"\", name)\n",
    "lc = re.sub(\"[^a-zA-Z]\", \"\", name)\n",
    "sc = re.findall(\"[^a-zA-Z0-9\\s]\", name)\n",
    "spa = re.findall(\"[ \\s]\", name)\n",
    "\n",
    "print(\"Total digits\", len(dg))\n",
    "print(\"Total laters\", len(lc))\n",
    "print(\"Total spacial Characters\", len(sc))\n",
    "print(\"Total space\",len(spa))"
   ]
  },
  {
   "cell_type": "code",
   "execution_count": null,
   "id": "51685e77",
   "metadata": {},
   "outputs": [],
   "source": []
  }
 ],
 "metadata": {
  "kernelspec": {
   "display_name": "Python 3 (ipykernel)",
   "language": "python",
   "name": "python3"
  },
  "language_info": {
   "codemirror_mode": {
    "name": "ipython",
    "version": 3
   },
   "file_extension": ".py",
   "mimetype": "text/x-python",
   "name": "python",
   "nbconvert_exporter": "python",
   "pygments_lexer": "ipython3",
   "version": "3.11.4"
  }
 },
 "nbformat": 4,
 "nbformat_minor": 5
}
